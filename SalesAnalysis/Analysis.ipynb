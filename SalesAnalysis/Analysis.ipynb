{
 "cells": [
  {
   "cell_type": "code",
   "execution_count": 5,
   "id": "8e213c23",
   "metadata": {
    "tags": []
   },
   "outputs": [],
   "source": [
    "import pandas as pd"
   ]
  },
  {
   "cell_type": "markdown",
   "id": "3bb916b9-2006-49e7-a249-07d55ff1596a",
   "metadata": {
    "tags": []
   },
   "source": [
    "### Merging 12 months of sales data into a single file"
   ]
  },
  {
   "cell_type": "code",
   "execution_count": 6,
   "id": "5a287398-888b-4d8f-9f48-41b1b565ae60",
   "metadata": {
    "tags": []
   },
   "outputs": [],
   "source": [
    "from IPython.core.magic import register_cell_magic\n",
    "from IPython.display import HTML, display\n",
    "\n",
    "@register_cell_magic\n",
    "def bgc(color, cell=None):\n",
    "    script = (\n",
    "        \"var cell = this.closest('.jp-CodeCell');\"\n",
    "        \"var editor = cell.querySelector('.jp-Editor');\"\n",
    "        \"editor.style.background='{}';\"\n",
    "        \"this.parentNode.removeChild(this)\"\n",
    "    ).format(color)\n",
    "\n",
    "    display(HTML('<img src onerror=\"{}\">'.format(script)))"
   ]
  },
  {
   "cell_type": "code",
   "execution_count": 7,
   "id": "6d072520-0c19-4fb3-937a-87573769567c",
   "metadata": {
    "tags": []
   },
   "outputs": [
    {
     "data": {
      "text/plain": [
       "['Sales_December_2019.csv',\n",
       " 'Sales_April_2019.csv',\n",
       " 'Sales_February_2019.csv',\n",
       " 'Sales_March_2019.csv',\n",
       " 'Sales_August_2019.csv',\n",
       " 'Sales_May_2019.csv',\n",
       " 'Sales_November_2019.csv',\n",
       " 'Sales_October_2019.csv',\n",
       " 'Sales_January_2019.csv',\n",
       " 'Sales_September_2019.csv',\n",
       " 'Sales_July_2019.csv',\n",
       " 'Sales_June_2019.csv',\n",
       " 'merged_file.csv']"
      ]
     },
     "execution_count": 7,
     "metadata": {},
     "output_type": "execute_result"
    }
   ],
   "source": [
    "import os\n",
    "\n",
    "# Specify the directory containing your CSV files\n",
    "directory = 'Sales_Data/'\n",
    "\n",
    "# List all CSV files in the directory\n",
    "csv_files = [file for file in os.listdir(directory) if file.endswith('.csv')]\n",
    "\n",
    "csv_files\n"
   ]
  },
  {
   "cell_type": "code",
   "execution_count": 8,
   "id": "0f6219f0-5995-43f2-9584-ead547e2c393",
   "metadata": {
    "tags": []
   },
   "outputs": [
    {
     "name": "stdout",
     "output_type": "stream",
     "text": [
      "       Order ID                 Product Quantity Ordered Price Each  \\\n",
      "0        295665      Macbook Pro Laptop                1       1700   \n",
      "1        295666      LG Washing Machine                1      600.0   \n",
      "2        295667    USB-C Charging Cable                1      11.95   \n",
      "3        295668        27in FHD Monitor                1     149.99   \n",
      "4        295669    USB-C Charging Cable                1      11.95   \n",
      "...         ...                     ...              ...        ...   \n",
      "560545   222905  AAA Batteries (4-pack)                1       2.99   \n",
      "560546   222906        27in FHD Monitor                1     149.99   \n",
      "560547   222907    USB-C Charging Cable                1      11.95   \n",
      "560548   222908    USB-C Charging Cable                1      11.95   \n",
      "560549   222909  AAA Batteries (4-pack)                1       2.99   \n",
      "\n",
      "            Order Date                        Purchase Address  \n",
      "0       12/30/19 00:01  136 Church St, New York City, NY 10001  \n",
      "1       12/29/19 07:03     562 2nd St, New York City, NY 10001  \n",
      "2       12/12/19 18:21    277 Main St, New York City, NY 10001  \n",
      "3       12/22/19 15:13     410 6th St, San Francisco, CA 94016  \n",
      "4       12/18/19 12:38           43 Hill St, Atlanta, GA 30301  \n",
      "...                ...                                     ...  \n",
      "560545  06/07/19 19:02           795 Pine St, Boston, MA 02215  \n",
      "560546  06/01/19 19:29   495 North St, New York City, NY 10001  \n",
      "560547  06/22/19 18:57   319 Ridge St, San Francisco, CA 94016  \n",
      "560548  06/26/19 18:35    916 Main St, San Francisco, CA 94016  \n",
      "560549  06/25/19 14:33          209 11th St, Atlanta, GA 30301  \n",
      "\n",
      "[560550 rows x 6 columns]\n"
     ]
    }
   ],
   "source": [
    "\n",
    "# Read each CSV file and concatenate them into a single DataFrame\n",
    "dfs = [pd.read_csv(os.path.join(directory, file)) for file in csv_files]\n",
    "merged_df = pd.concat(dfs, ignore_index=True)\n",
    "\n",
    "# Export the merged DataFrame to a CSV file\n",
    "merged_df.to_csv(directory+'merged_file.csv', index=False)\n",
    "print(merged_df)"
   ]
  },
  {
   "cell_type": "code",
   "execution_count": 9,
   "id": "d4660d4f-c649-408b-9bae-2f84283cf800",
   "metadata": {
    "tags": []
   },
   "outputs": [
    {
     "data": {
      "text/plain": [
       "list"
      ]
     },
     "execution_count": 9,
     "metadata": {},
     "output_type": "execute_result"
    }
   ],
   "source": [
    "dfs = [pd.read_csv(os.path.join(directory, file)) for file in csv_files]\n",
    "type([x for x in dfs])"
   ]
  },
  {
   "cell_type": "code",
   "execution_count": 10,
   "id": "12f4742b-e298-4cac-a058-15ecf370ac59",
   "metadata": {
    "tags": []
   },
   "outputs": [
    {
     "data": {
      "text/html": [
       "<div>\n",
       "<style scoped>\n",
       "    .dataframe tbody tr th:only-of-type {\n",
       "        vertical-align: middle;\n",
       "    }\n",
       "\n",
       "    .dataframe tbody tr th {\n",
       "        vertical-align: top;\n",
       "    }\n",
       "\n",
       "    .dataframe thead th {\n",
       "        text-align: right;\n",
       "    }\n",
       "</style>\n",
       "<table border=\"1\" class=\"dataframe\">\n",
       "  <thead>\n",
       "    <tr style=\"text-align: right;\">\n",
       "      <th></th>\n",
       "      <th>Order ID</th>\n",
       "      <th>Product</th>\n",
       "      <th>Quantity Ordered</th>\n",
       "      <th>Price Each</th>\n",
       "      <th>Order Date</th>\n",
       "      <th>Purchase Address</th>\n",
       "    </tr>\n",
       "  </thead>\n",
       "  <tbody>\n",
       "    <tr>\n",
       "      <th>0</th>\n",
       "      <td>295665</td>\n",
       "      <td>Macbook Pro Laptop</td>\n",
       "      <td>1</td>\n",
       "      <td>1700</td>\n",
       "      <td>12/30/19 00:01</td>\n",
       "      <td>136 Church St, New York City, NY 10001</td>\n",
       "    </tr>\n",
       "    <tr>\n",
       "      <th>1</th>\n",
       "      <td>295666</td>\n",
       "      <td>LG Washing Machine</td>\n",
       "      <td>1</td>\n",
       "      <td>600.0</td>\n",
       "      <td>12/29/19 07:03</td>\n",
       "      <td>562 2nd St, New York City, NY 10001</td>\n",
       "    </tr>\n",
       "    <tr>\n",
       "      <th>2</th>\n",
       "      <td>295667</td>\n",
       "      <td>USB-C Charging Cable</td>\n",
       "      <td>1</td>\n",
       "      <td>11.95</td>\n",
       "      <td>12/12/19 18:21</td>\n",
       "      <td>277 Main St, New York City, NY 10001</td>\n",
       "    </tr>\n",
       "    <tr>\n",
       "      <th>3</th>\n",
       "      <td>295668</td>\n",
       "      <td>27in FHD Monitor</td>\n",
       "      <td>1</td>\n",
       "      <td>149.99</td>\n",
       "      <td>12/22/19 15:13</td>\n",
       "      <td>410 6th St, San Francisco, CA 94016</td>\n",
       "    </tr>\n",
       "    <tr>\n",
       "      <th>4</th>\n",
       "      <td>295669</td>\n",
       "      <td>USB-C Charging Cable</td>\n",
       "      <td>1</td>\n",
       "      <td>11.95</td>\n",
       "      <td>12/18/19 12:38</td>\n",
       "      <td>43 Hill St, Atlanta, GA 30301</td>\n",
       "    </tr>\n",
       "    <tr>\n",
       "      <th>...</th>\n",
       "      <td>...</td>\n",
       "      <td>...</td>\n",
       "      <td>...</td>\n",
       "      <td>...</td>\n",
       "      <td>...</td>\n",
       "      <td>...</td>\n",
       "    </tr>\n",
       "    <tr>\n",
       "      <th>560545</th>\n",
       "      <td>222905</td>\n",
       "      <td>AAA Batteries (4-pack)</td>\n",
       "      <td>1</td>\n",
       "      <td>2.99</td>\n",
       "      <td>06/07/19 19:02</td>\n",
       "      <td>795 Pine St, Boston, MA 02215</td>\n",
       "    </tr>\n",
       "    <tr>\n",
       "      <th>560546</th>\n",
       "      <td>222906</td>\n",
       "      <td>27in FHD Monitor</td>\n",
       "      <td>1</td>\n",
       "      <td>149.99</td>\n",
       "      <td>06/01/19 19:29</td>\n",
       "      <td>495 North St, New York City, NY 10001</td>\n",
       "    </tr>\n",
       "    <tr>\n",
       "      <th>560547</th>\n",
       "      <td>222907</td>\n",
       "      <td>USB-C Charging Cable</td>\n",
       "      <td>1</td>\n",
       "      <td>11.95</td>\n",
       "      <td>06/22/19 18:57</td>\n",
       "      <td>319 Ridge St, San Francisco, CA 94016</td>\n",
       "    </tr>\n",
       "    <tr>\n",
       "      <th>560548</th>\n",
       "      <td>222908</td>\n",
       "      <td>USB-C Charging Cable</td>\n",
       "      <td>1</td>\n",
       "      <td>11.95</td>\n",
       "      <td>06/26/19 18:35</td>\n",
       "      <td>916 Main St, San Francisco, CA 94016</td>\n",
       "    </tr>\n",
       "    <tr>\n",
       "      <th>560549</th>\n",
       "      <td>222909</td>\n",
       "      <td>AAA Batteries (4-pack)</td>\n",
       "      <td>1</td>\n",
       "      <td>2.99</td>\n",
       "      <td>06/25/19 14:33</td>\n",
       "      <td>209 11th St, Atlanta, GA 30301</td>\n",
       "    </tr>\n",
       "  </tbody>\n",
       "</table>\n",
       "<p>560550 rows × 6 columns</p>\n",
       "</div>"
      ],
      "text/plain": [
       "       Order ID                 Product Quantity Ordered Price Each  \\\n",
       "0        295665      Macbook Pro Laptop                1       1700   \n",
       "1        295666      LG Washing Machine                1      600.0   \n",
       "2        295667    USB-C Charging Cable                1      11.95   \n",
       "3        295668        27in FHD Monitor                1     149.99   \n",
       "4        295669    USB-C Charging Cable                1      11.95   \n",
       "...         ...                     ...              ...        ...   \n",
       "560545   222905  AAA Batteries (4-pack)                1       2.99   \n",
       "560546   222906        27in FHD Monitor                1     149.99   \n",
       "560547   222907    USB-C Charging Cable                1      11.95   \n",
       "560548   222908    USB-C Charging Cable                1      11.95   \n",
       "560549   222909  AAA Batteries (4-pack)                1       2.99   \n",
       "\n",
       "            Order Date                        Purchase Address  \n",
       "0       12/30/19 00:01  136 Church St, New York City, NY 10001  \n",
       "1       12/29/19 07:03     562 2nd St, New York City, NY 10001  \n",
       "2       12/12/19 18:21    277 Main St, New York City, NY 10001  \n",
       "3       12/22/19 15:13     410 6th St, San Francisco, CA 94016  \n",
       "4       12/18/19 12:38           43 Hill St, Atlanta, GA 30301  \n",
       "...                ...                                     ...  \n",
       "560545  06/07/19 19:02           795 Pine St, Boston, MA 02215  \n",
       "560546  06/01/19 19:29   495 North St, New York City, NY 10001  \n",
       "560547  06/22/19 18:57   319 Ridge St, San Francisco, CA 94016  \n",
       "560548  06/26/19 18:35    916 Main St, San Francisco, CA 94016  \n",
       "560549  06/25/19 14:33          209 11th St, Atlanta, GA 30301  \n",
       "\n",
       "[560550 rows x 6 columns]"
      ]
     },
     "execution_count": 10,
     "metadata": {},
     "output_type": "execute_result"
    }
   ],
   "source": [
    "merged_df"
   ]
  },
  {
   "cell_type": "code",
   "execution_count": 11,
   "id": "555f2d7e-2a49-4923-b2b5-90ae92fc8c35",
   "metadata": {
    "tags": []
   },
   "outputs": [
    {
     "name": "stdout",
     "output_type": "stream",
     "text": [
      "object\n"
     ]
    }
   ],
   "source": [
    "#[x for x in merged_df if x['Order ID'] == 176558]\n",
    "merged_df[merged_df['Order ID'] == '295665']\n",
    "\n",
    "print(merged_df['Order ID'].dtypes)"
   ]
  },
  {
   "cell_type": "markdown",
   "id": "f4fdc6e8-3ae8-42b5-a083-f18156300841",
   "metadata": {},
   "source": [
    "##### Q1 What was the best month for sales? How much was earned that month?"
   ]
  },
  {
   "cell_type": "code",
   "execution_count": 13,
   "id": "27f2e54e-bbbf-4ad6-b339-5a88242fdae2",
   "metadata": {
    "tags": []
   },
   "outputs": [
    {
     "ename": "TypeError",
     "evalue": "'>=' not supported between instances of 'str' and 'float'",
     "output_type": "error",
     "traceback": [
      "\u001b[0;31m---------------------------------------------------------------------------\u001b[0m",
      "\u001b[0;31mTypeError\u001b[0m                                 Traceback (most recent call last)",
      "Cell \u001b[0;32mIn[13], line 4\u001b[0m\n\u001b[1;32m      1\u001b[0m \u001b[38;5;66;03m#max(int(x) for x in merged_df['Order ID',skiprows=1])\u001b[39;00m\n\u001b[1;32m      2\u001b[0m \u001b[38;5;66;03m#merged_df['Order ID'] = pd.to_numeric(merged_df['Order ID'], errors='coerce')\u001b[39;00m\n\u001b[0;32m----> 4\u001b[0m max_order_id_row \u001b[38;5;241m=\u001b[39m merged_df[merged_df[\u001b[38;5;124m'\u001b[39m\u001b[38;5;124mPrice Each\u001b[39m\u001b[38;5;124m'\u001b[39m] \u001b[38;5;241m==\u001b[39m merged_df[\u001b[38;5;124m'\u001b[39m\u001b[38;5;124mOrder ID\u001b[39m\u001b[38;5;124m'\u001b[39m]\u001b[38;5;241m.\u001b[39mmax()]\n\u001b[1;32m      6\u001b[0m merged_df\u001b[38;5;241m.\u001b[39mdtypes\n",
      "File \u001b[0;32m~/anaconda3/lib/python3.11/site-packages/pandas/core/generic.py:11646\u001b[0m, in \u001b[0;36mNDFrame._add_numeric_operations.<locals>.max\u001b[0;34m(self, axis, skipna, numeric_only, **kwargs)\u001b[0m\n\u001b[1;32m  11627\u001b[0m \u001b[38;5;129m@doc\u001b[39m(\n\u001b[1;32m  11628\u001b[0m     _num_doc,\n\u001b[1;32m  11629\u001b[0m     desc\u001b[38;5;241m=\u001b[39m\u001b[38;5;124m\"\u001b[39m\u001b[38;5;124mReturn the maximum of the values over the requested axis.\u001b[39m\u001b[38;5;130;01m\\n\u001b[39;00m\u001b[38;5;130;01m\\n\u001b[39;00m\u001b[38;5;124m\"\u001b[39m\n\u001b[0;32m   (...)\u001b[0m\n\u001b[1;32m  11644\u001b[0m     \u001b[38;5;241m*\u001b[39m\u001b[38;5;241m*\u001b[39mkwargs,\n\u001b[1;32m  11645\u001b[0m ):\n\u001b[0;32m> 11646\u001b[0m     \u001b[38;5;28;01mreturn\u001b[39;00m NDFrame\u001b[38;5;241m.\u001b[39mmax(\u001b[38;5;28mself\u001b[39m, axis, skipna, numeric_only, \u001b[38;5;241m*\u001b[39m\u001b[38;5;241m*\u001b[39mkwargs)\n",
      "File \u001b[0;32m~/anaconda3/lib/python3.11/site-packages/pandas/core/generic.py:11185\u001b[0m, in \u001b[0;36mNDFrame.max\u001b[0;34m(self, axis, skipna, numeric_only, **kwargs)\u001b[0m\n\u001b[1;32m  11178\u001b[0m \u001b[38;5;28;01mdef\u001b[39;00m \u001b[38;5;21mmax\u001b[39m(\n\u001b[1;32m  11179\u001b[0m     \u001b[38;5;28mself\u001b[39m,\n\u001b[1;32m  11180\u001b[0m     axis: Axis \u001b[38;5;241m|\u001b[39m \u001b[38;5;28;01mNone\u001b[39;00m \u001b[38;5;241m=\u001b[39m \u001b[38;5;241m0\u001b[39m,\n\u001b[0;32m   (...)\u001b[0m\n\u001b[1;32m  11183\u001b[0m     \u001b[38;5;241m*\u001b[39m\u001b[38;5;241m*\u001b[39mkwargs,\n\u001b[1;32m  11184\u001b[0m ):\n\u001b[0;32m> 11185\u001b[0m     \u001b[38;5;28;01mreturn\u001b[39;00m \u001b[38;5;28mself\u001b[39m\u001b[38;5;241m.\u001b[39m_stat_function(\n\u001b[1;32m  11186\u001b[0m         \u001b[38;5;124m\"\u001b[39m\u001b[38;5;124mmax\u001b[39m\u001b[38;5;124m\"\u001b[39m,\n\u001b[1;32m  11187\u001b[0m         nanops\u001b[38;5;241m.\u001b[39mnanmax,\n\u001b[1;32m  11188\u001b[0m         axis,\n\u001b[1;32m  11189\u001b[0m         skipna,\n\u001b[1;32m  11190\u001b[0m         numeric_only,\n\u001b[1;32m  11191\u001b[0m         \u001b[38;5;241m*\u001b[39m\u001b[38;5;241m*\u001b[39mkwargs,\n\u001b[1;32m  11192\u001b[0m     )\n",
      "File \u001b[0;32m~/anaconda3/lib/python3.11/site-packages/pandas/core/generic.py:11158\u001b[0m, in \u001b[0;36mNDFrame._stat_function\u001b[0;34m(self, name, func, axis, skipna, numeric_only, **kwargs)\u001b[0m\n\u001b[1;32m  11154\u001b[0m     nv\u001b[38;5;241m.\u001b[39mvalidate_stat_func((), kwargs, fname\u001b[38;5;241m=\u001b[39mname)\n\u001b[1;32m  11156\u001b[0m validate_bool_kwarg(skipna, \u001b[38;5;124m\"\u001b[39m\u001b[38;5;124mskipna\u001b[39m\u001b[38;5;124m\"\u001b[39m, none_allowed\u001b[38;5;241m=\u001b[39m\u001b[38;5;28;01mFalse\u001b[39;00m)\n\u001b[0;32m> 11158\u001b[0m \u001b[38;5;28;01mreturn\u001b[39;00m \u001b[38;5;28mself\u001b[39m\u001b[38;5;241m.\u001b[39m_reduce(\n\u001b[1;32m  11159\u001b[0m     func, name\u001b[38;5;241m=\u001b[39mname, axis\u001b[38;5;241m=\u001b[39maxis, skipna\u001b[38;5;241m=\u001b[39mskipna, numeric_only\u001b[38;5;241m=\u001b[39mnumeric_only\n\u001b[1;32m  11160\u001b[0m )\n",
      "File \u001b[0;32m~/anaconda3/lib/python3.11/site-packages/pandas/core/series.py:4670\u001b[0m, in \u001b[0;36mSeries._reduce\u001b[0;34m(self, op, name, axis, skipna, numeric_only, filter_type, **kwds)\u001b[0m\n\u001b[1;32m   4665\u001b[0m     \u001b[38;5;28;01mraise\u001b[39;00m \u001b[38;5;167;01mTypeError\u001b[39;00m(\n\u001b[1;32m   4666\u001b[0m         \u001b[38;5;124mf\u001b[39m\u001b[38;5;124m\"\u001b[39m\u001b[38;5;124mSeries.\u001b[39m\u001b[38;5;132;01m{\u001b[39;00mname\u001b[38;5;132;01m}\u001b[39;00m\u001b[38;5;124m does not allow \u001b[39m\u001b[38;5;132;01m{\u001b[39;00mkwd_name\u001b[38;5;132;01m}\u001b[39;00m\u001b[38;5;124m=\u001b[39m\u001b[38;5;132;01m{\u001b[39;00mnumeric_only\u001b[38;5;132;01m}\u001b[39;00m\u001b[38;5;124m \u001b[39m\u001b[38;5;124m\"\u001b[39m\n\u001b[1;32m   4667\u001b[0m         \u001b[38;5;124m\"\u001b[39m\u001b[38;5;124mwith non-numeric dtypes.\u001b[39m\u001b[38;5;124m\"\u001b[39m\n\u001b[1;32m   4668\u001b[0m     )\n\u001b[1;32m   4669\u001b[0m \u001b[38;5;28;01mwith\u001b[39;00m np\u001b[38;5;241m.\u001b[39merrstate(\u001b[38;5;28mall\u001b[39m\u001b[38;5;241m=\u001b[39m\u001b[38;5;124m\"\u001b[39m\u001b[38;5;124mignore\u001b[39m\u001b[38;5;124m\"\u001b[39m):\n\u001b[0;32m-> 4670\u001b[0m     \u001b[38;5;28;01mreturn\u001b[39;00m op(delegate, skipna\u001b[38;5;241m=\u001b[39mskipna, \u001b[38;5;241m*\u001b[39m\u001b[38;5;241m*\u001b[39mkwds)\n",
      "File \u001b[0;32m~/anaconda3/lib/python3.11/site-packages/pandas/core/nanops.py:158\u001b[0m, in \u001b[0;36mbottleneck_switch.__call__.<locals>.f\u001b[0;34m(values, axis, skipna, **kwds)\u001b[0m\n\u001b[1;32m    156\u001b[0m         result \u001b[38;5;241m=\u001b[39m alt(values, axis\u001b[38;5;241m=\u001b[39maxis, skipna\u001b[38;5;241m=\u001b[39mskipna, \u001b[38;5;241m*\u001b[39m\u001b[38;5;241m*\u001b[39mkwds)\n\u001b[1;32m    157\u001b[0m \u001b[38;5;28;01melse\u001b[39;00m:\n\u001b[0;32m--> 158\u001b[0m     result \u001b[38;5;241m=\u001b[39m alt(values, axis\u001b[38;5;241m=\u001b[39maxis, skipna\u001b[38;5;241m=\u001b[39mskipna, \u001b[38;5;241m*\u001b[39m\u001b[38;5;241m*\u001b[39mkwds)\n\u001b[1;32m    160\u001b[0m \u001b[38;5;28;01mreturn\u001b[39;00m result\n",
      "File \u001b[0;32m~/anaconda3/lib/python3.11/site-packages/pandas/core/nanops.py:421\u001b[0m, in \u001b[0;36m_datetimelike_compat.<locals>.new_func\u001b[0;34m(values, axis, skipna, mask, **kwargs)\u001b[0m\n\u001b[1;32m    418\u001b[0m \u001b[38;5;28;01mif\u001b[39;00m datetimelike \u001b[38;5;129;01mand\u001b[39;00m mask \u001b[38;5;129;01mis\u001b[39;00m \u001b[38;5;28;01mNone\u001b[39;00m:\n\u001b[1;32m    419\u001b[0m     mask \u001b[38;5;241m=\u001b[39m isna(values)\n\u001b[0;32m--> 421\u001b[0m result \u001b[38;5;241m=\u001b[39m func(values, axis\u001b[38;5;241m=\u001b[39maxis, skipna\u001b[38;5;241m=\u001b[39mskipna, mask\u001b[38;5;241m=\u001b[39mmask, \u001b[38;5;241m*\u001b[39m\u001b[38;5;241m*\u001b[39mkwargs)\n\u001b[1;32m    423\u001b[0m \u001b[38;5;28;01mif\u001b[39;00m datetimelike:\n\u001b[1;32m    424\u001b[0m     result \u001b[38;5;241m=\u001b[39m _wrap_results(result, orig_values\u001b[38;5;241m.\u001b[39mdtype, fill_value\u001b[38;5;241m=\u001b[39miNaT)\n",
      "File \u001b[0;32m~/anaconda3/lib/python3.11/site-packages/pandas/core/nanops.py:1094\u001b[0m, in \u001b[0;36m_nanminmax.<locals>.reduction\u001b[0;34m(values, axis, skipna, mask)\u001b[0m\n\u001b[1;32m   1092\u001b[0m         result \u001b[38;5;241m=\u001b[39m np\u001b[38;5;241m.\u001b[39mnan\n\u001b[1;32m   1093\u001b[0m \u001b[38;5;28;01melse\u001b[39;00m:\n\u001b[0;32m-> 1094\u001b[0m     result \u001b[38;5;241m=\u001b[39m \u001b[38;5;28mgetattr\u001b[39m(values, meth)(axis)\n\u001b[1;32m   1096\u001b[0m result \u001b[38;5;241m=\u001b[39m _maybe_null_out(result, axis, mask, values\u001b[38;5;241m.\u001b[39mshape)\n\u001b[1;32m   1097\u001b[0m \u001b[38;5;28;01mreturn\u001b[39;00m result\n",
      "File \u001b[0;32m~/anaconda3/lib/python3.11/site-packages/numpy/core/_methods.py:41\u001b[0m, in \u001b[0;36m_amax\u001b[0;34m(a, axis, out, keepdims, initial, where)\u001b[0m\n\u001b[1;32m     39\u001b[0m \u001b[38;5;28;01mdef\u001b[39;00m \u001b[38;5;21m_amax\u001b[39m(a, axis\u001b[38;5;241m=\u001b[39m\u001b[38;5;28;01mNone\u001b[39;00m, out\u001b[38;5;241m=\u001b[39m\u001b[38;5;28;01mNone\u001b[39;00m, keepdims\u001b[38;5;241m=\u001b[39m\u001b[38;5;28;01mFalse\u001b[39;00m,\n\u001b[1;32m     40\u001b[0m           initial\u001b[38;5;241m=\u001b[39m_NoValue, where\u001b[38;5;241m=\u001b[39m\u001b[38;5;28;01mTrue\u001b[39;00m):\n\u001b[0;32m---> 41\u001b[0m     \u001b[38;5;28;01mreturn\u001b[39;00m umr_maximum(a, axis, \u001b[38;5;28;01mNone\u001b[39;00m, out, keepdims, initial, where)\n",
      "\u001b[0;31mTypeError\u001b[0m: '>=' not supported between instances of 'str' and 'float'"
     ]
    }
   ],
   "source": [
    "#max(int(x) for x in merged_df['Order ID',skiprows=1])\n",
    "#merged_df['Order ID'] = pd.to_numeric(merged_df['Order ID'], errors='coerce')\n",
    "\n",
    "max_order_id_row = merged_df[merged_df['Price Each'] == merged_df['Order ID'].max()]\n",
    "\n",
    "merged_df.dropna()"
   ]
  },
  {
   "cell_type": "code",
   "execution_count": 14,
   "id": "d051fceb-f17b-4eda-baec-52347bf4492b",
   "metadata": {
    "tags": []
   },
   "outputs": [
    {
     "name": "stderr",
     "output_type": "stream",
     "text": [
      "/var/folders/35/vw_j2d_n7kj95gf_rltgld9h0000gn/T/ipykernel_13601/1338565842.py:1: UserWarning: Could not infer format, so each element will be parsed individually, falling back to `dateutil`. To ensure parsing is consistent and as-expected, please specify a format.\n",
      "  merged_df['Order Date'] = pd.to_datetime(merged_df['Order Date'], errors='coerce')\n"
     ]
    }
   ],
   "source": [
    "merged_df['Order Date'] = pd.to_datetime(merged_df['Order Date'], errors='coerce')"
   ]
  },
  {
   "cell_type": "code",
   "execution_count": null,
   "id": "9ddbee94",
   "metadata": {},
   "outputs": [],
   "source": []
  },
  {
   "cell_type": "code",
   "execution_count": null,
   "id": "39330722-beb7-4ded-8556-8e5f5bdbbe06",
   "metadata": {
    "tags": []
   },
   "outputs": [
    {
     "data": {
      "text/plain": [
       "0         2019-12\n",
       "1         2019-12\n",
       "2         2019-12\n",
       "3         2019-12\n",
       "4         2019-12\n",
       "           ...   \n",
       "186845    2019-06\n",
       "186846    2019-06\n",
       "186847    2019-06\n",
       "186848    2019-06\n",
       "186849    2019-06\n",
       "Name: Month, Length: 186850, dtype: period[M]"
      ]
     },
     "execution_count": 283,
     "metadata": {},
     "output_type": "execute_result"
    }
   ],
   "source": [
    "merged_df['Month'] = merged_df['Order Date'].dt.to_period('M')\n",
    "\n",
    "\n",
    "merged_df['Month']"
   ]
  },
  {
   "cell_type": "code",
   "execution_count": null,
   "id": "bdab81b0-3a4a-421c-84fd-95f235a35bbf",
   "metadata": {
    "tags": []
   },
   "outputs": [],
   "source": [
    "merged_df['Brutto'] = pd.to_numeric(merged_df['Price Each'], errors='coerce') * pd.to_numeric(merged_df['Quantity Ordered'], errors='coerce')\n",
    "\n"
   ]
  },
  {
   "cell_type": "code",
   "execution_count": null,
   "id": "d2f70981-a5a0-4987-a70a-78d71d1efbf0",
   "metadata": {
    "tags": []
   },
   "outputs": [
    {
     "name": "stdout",
     "output_type": "stream",
     "text": [
      "2019-12\n"
     ]
    }
   ],
   "source": [
    "\n",
    "monthly_sales = merged_df.groupby('Month')['Brutto'].sum()\n",
    "\n",
    "mer\n",
    "\n",
    "print(monthly_sales.idxmax())\n"
   ]
  }
 ],
 "metadata": {
  "kernelspec": {
   "display_name": "Python 3 (ipykernel)",
   "language": "python",
   "name": "python3"
  },
  "language_info": {
   "codemirror_mode": {
    "name": "ipython",
    "version": 3
   },
   "file_extension": ".py",
   "mimetype": "text/x-python",
   "name": "python",
   "nbconvert_exporter": "python",
   "pygments_lexer": "ipython3",
   "version": "3.11.5"
  },
  "toc-autonumbering": false,
  "toc-showcode": true,
  "toc-showmarkdowntxt": false
 },
 "nbformat": 4,
 "nbformat_minor": 5
}
