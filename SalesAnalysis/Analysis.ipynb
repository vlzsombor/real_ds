{
 "cells": [
  {
   "cell_type": "code",
   "execution_count": 7,
   "id": "f93ea043",
   "metadata": {},
   "outputs": [
    {
     "name": "stdout",
     "output_type": "stream",
     "text": [
      "Channels:\n",
      " - defaults\n",
      "Platform: win-64\n",
      "Collecting package metadata (repodata.json): ...working... done\n",
      "Solving environment: ...working... done\n",
      "\n",
      "# All requested packages already installed.\n",
      "\n",
      "Requirement already satisfied: pandas in c:\\users\\zsombor.veres-lakos\\appdata\\local\\anaconda3\\lib\\site-packages (2.2.1)\n",
      "Requirement already satisfied: numpy<2,>=1.23.2 in c:\\users\\zsombor.veres-lakos\\appdata\\local\\anaconda3\\lib\\site-packages (from pandas) (1.26.4)\n",
      "Requirement already satisfied: python-dateutil>=2.8.2 in c:\\users\\zsombor.veres-lakos\\appdata\\local\\anaconda3\\lib\\site-packages (from pandas) (2.8.2)\n",
      "Requirement already satisfied: pytz>=2020.1 in c:\\users\\zsombor.veres-lakos\\appdata\\local\\anaconda3\\lib\\site-packages (from pandas) (2023.3.post1)\n",
      "Requirement already satisfied: tzdata>=2022.7 in c:\\users\\zsombor.veres-lakos\\appdata\\local\\anaconda3\\lib\\site-packages (from pandas) (2023.3)\n",
      "Requirement already satisfied: six>=1.5 in c:\\users\\zsombor.veres-lakos\\appdata\\local\\anaconda3\\lib\\site-packages (from python-dateutil>=2.8.2->pandas) (1.16.0)\n"
     ]
    }
   ],
   "source": [
    "! pip install pandas"
   ]
  },
  {
   "cell_type": "code",
   "execution_count": null,
   "id": "b8fd52eb",
   "metadata": {},
   "outputs": [],
   "source": []
  },
  {
   "cell_type": "code",
   "execution_count": 8,
   "id": "8e213c23",
   "metadata": {
    "tags": []
   },
   "outputs": [],
   "source": [
    "import pandas as pd"
   ]
  },
  {
   "cell_type": "markdown",
   "id": "3bb916b9-2006-49e7-a249-07d55ff1596a",
   "metadata": {
    "tags": []
   },
   "source": [
    "### Merging 12 months of sales data into a single file"
   ]
  },
  {
   "cell_type": "code",
   "execution_count": 9,
   "id": "5a287398-888b-4d8f-9f48-41b1b565ae60",
   "metadata": {
    "tags": []
   },
   "outputs": [],
   "source": [
    "from IPython.core.magic import register_cell_magic\n",
    "from IPython.display import HTML, display\n",
    "\n",
    "@register_cell_magic\n",
    "def bgc(color, cell=None):\n",
    "    script = (\n",
    "        \"var cell = this.closest('.jp-CodeCell');\"\n",
    "        \"var editor = cell.querySelector('.jp-Editor');\"\n",
    "        \"editor.style.background='{}';\"\n",
    "        \"this.parentNode.removeChild(this)\"\n",
    "    ).format(color)\n",
    "\n",
    "    display(HTML('<img src onerror=\"{}\">'.format(script)))"
   ]
  },
  {
   "cell_type": "code",
   "execution_count": 10,
   "id": "6d072520-0c19-4fb3-937a-87573769567c",
   "metadata": {
    "tags": []
   },
   "outputs": [
    {
     "data": {
      "text/plain": [
       "['merged_file.csv',\n",
       " 'Sales_April_2019.csv',\n",
       " 'Sales_August_2019.csv',\n",
       " 'Sales_December_2019.csv',\n",
       " 'Sales_February_2019.csv',\n",
       " 'Sales_January_2019.csv',\n",
       " 'Sales_July_2019.csv',\n",
       " 'Sales_June_2019.csv',\n",
       " 'Sales_March_2019.csv',\n",
       " 'Sales_May_2019.csv',\n",
       " 'Sales_November_2019.csv',\n",
       " 'Sales_October_2019.csv',\n",
       " 'Sales_September_2019.csv']"
      ]
     },
     "execution_count": 10,
     "metadata": {},
     "output_type": "execute_result"
    }
   ],
   "source": [
    "import os\n",
    "\n",
    "# Specify the directory containing your CSV files\n",
    "directory = 'Sales_Data/'\n",
    "\n",
    "# List all CSV files in the directory\n",
    "csv_files = [file for file in os.listdir(directory) if file.endswith('.csv')]\n",
    "\n",
    "csv_files\n"
   ]
  },
  {
   "cell_type": "code",
   "execution_count": 11,
   "id": "0f6219f0-5995-43f2-9584-ead547e2c393",
   "metadata": {
    "tags": []
   },
   "outputs": [
    {
     "name": "stdout",
     "output_type": "stream",
     "text": [
      "        Order ID                 Product Quantity Ordered Price Each  \\\n",
      "0         295665      Macbook Pro Laptop                1       1700   \n",
      "1         295666      LG Washing Machine                1      600.0   \n",
      "2         295667    USB-C Charging Cable                1      11.95   \n",
      "3         295668        27in FHD Monitor                1     149.99   \n",
      "4         295669    USB-C Charging Cable                1      11.95   \n",
      "...          ...                     ...              ...        ...   \n",
      "1307945   259353  AAA Batteries (4-pack)                3       2.99   \n",
      "1307946   259354                  iPhone                1        700   \n",
      "1307947   259355                  iPhone                1        700   \n",
      "1307948   259356  34in Ultrawide Monitor                1     379.99   \n",
      "1307949   259357    USB-C Charging Cable                1      11.95   \n",
      "\n",
      "             Order Date                         Purchase Address  \n",
      "0        12/30/19 00:01   136 Church St, New York City, NY 10001  \n",
      "1        12/29/19 07:03      562 2nd St, New York City, NY 10001  \n",
      "2        12/12/19 18:21     277 Main St, New York City, NY 10001  \n",
      "3        12/22/19 15:13      410 6th St, San Francisco, CA 94016  \n",
      "4        12/18/19 12:38            43 Hill St, Atlanta, GA 30301  \n",
      "...                 ...                                      ...  \n",
      "1307945  09/17/19 20:56   840 Highland St, Los Angeles, CA 90001  \n",
      "1307946  09/01/19 16:00  216 Dogwood St, San Francisco, CA 94016  \n",
      "1307947  09/23/19 07:39     220 12th St, San Francisco, CA 94016  \n",
      "1307948  09/19/19 17:30   511 Forest St, San Francisco, CA 94016  \n",
      "1307949  09/30/19 00:18   250 Meadow St, San Francisco, CA 94016  \n",
      "\n",
      "[1307950 rows x 6 columns]\n"
     ]
    }
   ],
   "source": [
    "\n",
    "# Read each CSV file and concatenate them into a single DataFrame\n",
    "dfs = [pd.read_csv(os.path.join(directory, file)) for file in csv_files]\n",
    "merged_df = pd.concat(dfs, ignore_index=True)\n",
    "\n",
    "# Export the merged DataFrame to a CSV file\n",
    "merged_df.to_csv(directory+'merged_file.csv', index=False)\n",
    "print(merged_df)"
   ]
  },
  {
   "cell_type": "code",
   "execution_count": 12,
   "id": "d4660d4f-c649-408b-9bae-2f84283cf800",
   "metadata": {
    "tags": []
   },
   "outputs": [
    {
     "data": {
      "text/plain": [
       "list"
      ]
     },
     "execution_count": 12,
     "metadata": {},
     "output_type": "execute_result"
    }
   ],
   "source": [
    "dfs = [pd.read_csv(os.path.join(directory, file)) for file in csv_files]\n",
    "type([x for x in dfs])"
   ]
  },
  {
   "cell_type": "code",
   "execution_count": 13,
   "id": "12f4742b-e298-4cac-a058-15ecf370ac59",
   "metadata": {
    "tags": []
   },
   "outputs": [
    {
     "data": {
      "text/html": [
       "<div>\n",
       "<style scoped>\n",
       "    .dataframe tbody tr th:only-of-type {\n",
       "        vertical-align: middle;\n",
       "    }\n",
       "\n",
       "    .dataframe tbody tr th {\n",
       "        vertical-align: top;\n",
       "    }\n",
       "\n",
       "    .dataframe thead th {\n",
       "        text-align: right;\n",
       "    }\n",
       "</style>\n",
       "<table border=\"1\" class=\"dataframe\">\n",
       "  <thead>\n",
       "    <tr style=\"text-align: right;\">\n",
       "      <th></th>\n",
       "      <th>Order ID</th>\n",
       "      <th>Product</th>\n",
       "      <th>Quantity Ordered</th>\n",
       "      <th>Price Each</th>\n",
       "      <th>Order Date</th>\n",
       "      <th>Purchase Address</th>\n",
       "    </tr>\n",
       "  </thead>\n",
       "  <tbody>\n",
       "    <tr>\n",
       "      <th>0</th>\n",
       "      <td>295665</td>\n",
       "      <td>Macbook Pro Laptop</td>\n",
       "      <td>1</td>\n",
       "      <td>1700</td>\n",
       "      <td>12/30/19 00:01</td>\n",
       "      <td>136 Church St, New York City, NY 10001</td>\n",
       "    </tr>\n",
       "    <tr>\n",
       "      <th>1</th>\n",
       "      <td>295666</td>\n",
       "      <td>LG Washing Machine</td>\n",
       "      <td>1</td>\n",
       "      <td>600.0</td>\n",
       "      <td>12/29/19 07:03</td>\n",
       "      <td>562 2nd St, New York City, NY 10001</td>\n",
       "    </tr>\n",
       "    <tr>\n",
       "      <th>2</th>\n",
       "      <td>295667</td>\n",
       "      <td>USB-C Charging Cable</td>\n",
       "      <td>1</td>\n",
       "      <td>11.95</td>\n",
       "      <td>12/12/19 18:21</td>\n",
       "      <td>277 Main St, New York City, NY 10001</td>\n",
       "    </tr>\n",
       "    <tr>\n",
       "      <th>3</th>\n",
       "      <td>295668</td>\n",
       "      <td>27in FHD Monitor</td>\n",
       "      <td>1</td>\n",
       "      <td>149.99</td>\n",
       "      <td>12/22/19 15:13</td>\n",
       "      <td>410 6th St, San Francisco, CA 94016</td>\n",
       "    </tr>\n",
       "    <tr>\n",
       "      <th>4</th>\n",
       "      <td>295669</td>\n",
       "      <td>USB-C Charging Cable</td>\n",
       "      <td>1</td>\n",
       "      <td>11.95</td>\n",
       "      <td>12/18/19 12:38</td>\n",
       "      <td>43 Hill St, Atlanta, GA 30301</td>\n",
       "    </tr>\n",
       "    <tr>\n",
       "      <th>...</th>\n",
       "      <td>...</td>\n",
       "      <td>...</td>\n",
       "      <td>...</td>\n",
       "      <td>...</td>\n",
       "      <td>...</td>\n",
       "      <td>...</td>\n",
       "    </tr>\n",
       "    <tr>\n",
       "      <th>1307945</th>\n",
       "      <td>259353</td>\n",
       "      <td>AAA Batteries (4-pack)</td>\n",
       "      <td>3</td>\n",
       "      <td>2.99</td>\n",
       "      <td>09/17/19 20:56</td>\n",
       "      <td>840 Highland St, Los Angeles, CA 90001</td>\n",
       "    </tr>\n",
       "    <tr>\n",
       "      <th>1307946</th>\n",
       "      <td>259354</td>\n",
       "      <td>iPhone</td>\n",
       "      <td>1</td>\n",
       "      <td>700</td>\n",
       "      <td>09/01/19 16:00</td>\n",
       "      <td>216 Dogwood St, San Francisco, CA 94016</td>\n",
       "    </tr>\n",
       "    <tr>\n",
       "      <th>1307947</th>\n",
       "      <td>259355</td>\n",
       "      <td>iPhone</td>\n",
       "      <td>1</td>\n",
       "      <td>700</td>\n",
       "      <td>09/23/19 07:39</td>\n",
       "      <td>220 12th St, San Francisco, CA 94016</td>\n",
       "    </tr>\n",
       "    <tr>\n",
       "      <th>1307948</th>\n",
       "      <td>259356</td>\n",
       "      <td>34in Ultrawide Monitor</td>\n",
       "      <td>1</td>\n",
       "      <td>379.99</td>\n",
       "      <td>09/19/19 17:30</td>\n",
       "      <td>511 Forest St, San Francisco, CA 94016</td>\n",
       "    </tr>\n",
       "    <tr>\n",
       "      <th>1307949</th>\n",
       "      <td>259357</td>\n",
       "      <td>USB-C Charging Cable</td>\n",
       "      <td>1</td>\n",
       "      <td>11.95</td>\n",
       "      <td>09/30/19 00:18</td>\n",
       "      <td>250 Meadow St, San Francisco, CA 94016</td>\n",
       "    </tr>\n",
       "  </tbody>\n",
       "</table>\n",
       "<p>1307950 rows × 6 columns</p>\n",
       "</div>"
      ],
      "text/plain": [
       "        Order ID                 Product Quantity Ordered Price Each  \\\n",
       "0         295665      Macbook Pro Laptop                1       1700   \n",
       "1         295666      LG Washing Machine                1      600.0   \n",
       "2         295667    USB-C Charging Cable                1      11.95   \n",
       "3         295668        27in FHD Monitor                1     149.99   \n",
       "4         295669    USB-C Charging Cable                1      11.95   \n",
       "...          ...                     ...              ...        ...   \n",
       "1307945   259353  AAA Batteries (4-pack)                3       2.99   \n",
       "1307946   259354                  iPhone                1        700   \n",
       "1307947   259355                  iPhone                1        700   \n",
       "1307948   259356  34in Ultrawide Monitor                1     379.99   \n",
       "1307949   259357    USB-C Charging Cable                1      11.95   \n",
       "\n",
       "             Order Date                         Purchase Address  \n",
       "0        12/30/19 00:01   136 Church St, New York City, NY 10001  \n",
       "1        12/29/19 07:03      562 2nd St, New York City, NY 10001  \n",
       "2        12/12/19 18:21     277 Main St, New York City, NY 10001  \n",
       "3        12/22/19 15:13      410 6th St, San Francisco, CA 94016  \n",
       "4        12/18/19 12:38            43 Hill St, Atlanta, GA 30301  \n",
       "...                 ...                                      ...  \n",
       "1307945  09/17/19 20:56   840 Highland St, Los Angeles, CA 90001  \n",
       "1307946  09/01/19 16:00  216 Dogwood St, San Francisco, CA 94016  \n",
       "1307947  09/23/19 07:39     220 12th St, San Francisco, CA 94016  \n",
       "1307948  09/19/19 17:30   511 Forest St, San Francisco, CA 94016  \n",
       "1307949  09/30/19 00:18   250 Meadow St, San Francisco, CA 94016  \n",
       "\n",
       "[1307950 rows x 6 columns]"
      ]
     },
     "execution_count": 13,
     "metadata": {},
     "output_type": "execute_result"
    }
   ],
   "source": [
    "merged_df"
   ]
  },
  {
   "cell_type": "code",
   "execution_count": 14,
   "id": "555f2d7e-2a49-4923-b2b5-90ae92fc8c35",
   "metadata": {
    "tags": []
   },
   "outputs": [
    {
     "name": "stdout",
     "output_type": "stream",
     "text": [
      "object\n"
     ]
    }
   ],
   "source": [
    "#[x for x in merged_df if x['Order ID'] == 176558]\n",
    "merged_df[merged_df['Order ID'] == '295665']\n",
    "\n",
    "print(merged_df['Order ID'].dtypes)"
   ]
  },
  {
   "cell_type": "markdown",
   "id": "f4fdc6e8-3ae8-42b5-a083-f18156300841",
   "metadata": {},
   "source": [
    "##### Q1 What was the best month for sales? How much was earned that month?"
   ]
  },
  {
   "cell_type": "code",
   "execution_count": 15,
   "id": "27f2e54e-bbbf-4ad6-b339-5a88242fdae2",
   "metadata": {
    "tags": []
   },
   "outputs": [
    {
     "data": {
      "text/html": [
       "<div>\n",
       "<style scoped>\n",
       "    .dataframe tbody tr th:only-of-type {\n",
       "        vertical-align: middle;\n",
       "    }\n",
       "\n",
       "    .dataframe tbody tr th {\n",
       "        vertical-align: top;\n",
       "    }\n",
       "\n",
       "    .dataframe thead th {\n",
       "        text-align: right;\n",
       "    }\n",
       "</style>\n",
       "<table border=\"1\" class=\"dataframe\">\n",
       "  <thead>\n",
       "    <tr style=\"text-align: right;\">\n",
       "      <th></th>\n",
       "      <th>Order ID</th>\n",
       "      <th>Product</th>\n",
       "      <th>Quantity Ordered</th>\n",
       "      <th>Price Each</th>\n",
       "      <th>Order Date</th>\n",
       "      <th>Purchase Address</th>\n",
       "    </tr>\n",
       "  </thead>\n",
       "  <tbody>\n",
       "    <tr>\n",
       "      <th>0</th>\n",
       "      <td>295665</td>\n",
       "      <td>Macbook Pro Laptop</td>\n",
       "      <td>1</td>\n",
       "      <td>1700</td>\n",
       "      <td>12/30/19 00:01</td>\n",
       "      <td>136 Church St, New York City, NY 10001</td>\n",
       "    </tr>\n",
       "    <tr>\n",
       "      <th>1</th>\n",
       "      <td>295666</td>\n",
       "      <td>LG Washing Machine</td>\n",
       "      <td>1</td>\n",
       "      <td>600.0</td>\n",
       "      <td>12/29/19 07:03</td>\n",
       "      <td>562 2nd St, New York City, NY 10001</td>\n",
       "    </tr>\n",
       "    <tr>\n",
       "      <th>2</th>\n",
       "      <td>295667</td>\n",
       "      <td>USB-C Charging Cable</td>\n",
       "      <td>1</td>\n",
       "      <td>11.95</td>\n",
       "      <td>12/12/19 18:21</td>\n",
       "      <td>277 Main St, New York City, NY 10001</td>\n",
       "    </tr>\n",
       "    <tr>\n",
       "      <th>3</th>\n",
       "      <td>295668</td>\n",
       "      <td>27in FHD Monitor</td>\n",
       "      <td>1</td>\n",
       "      <td>149.99</td>\n",
       "      <td>12/22/19 15:13</td>\n",
       "      <td>410 6th St, San Francisco, CA 94016</td>\n",
       "    </tr>\n",
       "    <tr>\n",
       "      <th>4</th>\n",
       "      <td>295669</td>\n",
       "      <td>USB-C Charging Cable</td>\n",
       "      <td>1</td>\n",
       "      <td>11.95</td>\n",
       "      <td>12/18/19 12:38</td>\n",
       "      <td>43 Hill St, Atlanta, GA 30301</td>\n",
       "    </tr>\n",
       "    <tr>\n",
       "      <th>...</th>\n",
       "      <td>...</td>\n",
       "      <td>...</td>\n",
       "      <td>...</td>\n",
       "      <td>...</td>\n",
       "      <td>...</td>\n",
       "      <td>...</td>\n",
       "    </tr>\n",
       "    <tr>\n",
       "      <th>1307945</th>\n",
       "      <td>259353</td>\n",
       "      <td>AAA Batteries (4-pack)</td>\n",
       "      <td>3</td>\n",
       "      <td>2.99</td>\n",
       "      <td>09/17/19 20:56</td>\n",
       "      <td>840 Highland St, Los Angeles, CA 90001</td>\n",
       "    </tr>\n",
       "    <tr>\n",
       "      <th>1307946</th>\n",
       "      <td>259354</td>\n",
       "      <td>iPhone</td>\n",
       "      <td>1</td>\n",
       "      <td>700</td>\n",
       "      <td>09/01/19 16:00</td>\n",
       "      <td>216 Dogwood St, San Francisco, CA 94016</td>\n",
       "    </tr>\n",
       "    <tr>\n",
       "      <th>1307947</th>\n",
       "      <td>259355</td>\n",
       "      <td>iPhone</td>\n",
       "      <td>1</td>\n",
       "      <td>700</td>\n",
       "      <td>09/23/19 07:39</td>\n",
       "      <td>220 12th St, San Francisco, CA 94016</td>\n",
       "    </tr>\n",
       "    <tr>\n",
       "      <th>1307948</th>\n",
       "      <td>259356</td>\n",
       "      <td>34in Ultrawide Monitor</td>\n",
       "      <td>1</td>\n",
       "      <td>379.99</td>\n",
       "      <td>09/19/19 17:30</td>\n",
       "      <td>511 Forest St, San Francisco, CA 94016</td>\n",
       "    </tr>\n",
       "    <tr>\n",
       "      <th>1307949</th>\n",
       "      <td>259357</td>\n",
       "      <td>USB-C Charging Cable</td>\n",
       "      <td>1</td>\n",
       "      <td>11.95</td>\n",
       "      <td>09/30/19 00:18</td>\n",
       "      <td>250 Meadow St, San Francisco, CA 94016</td>\n",
       "    </tr>\n",
       "  </tbody>\n",
       "</table>\n",
       "<p>1304135 rows × 6 columns</p>\n",
       "</div>"
      ],
      "text/plain": [
       "        Order ID                 Product Quantity Ordered Price Each  \\\n",
       "0         295665      Macbook Pro Laptop                1       1700   \n",
       "1         295666      LG Washing Machine                1      600.0   \n",
       "2         295667    USB-C Charging Cable                1      11.95   \n",
       "3         295668        27in FHD Monitor                1     149.99   \n",
       "4         295669    USB-C Charging Cable                1      11.95   \n",
       "...          ...                     ...              ...        ...   \n",
       "1307945   259353  AAA Batteries (4-pack)                3       2.99   \n",
       "1307946   259354                  iPhone                1        700   \n",
       "1307947   259355                  iPhone                1        700   \n",
       "1307948   259356  34in Ultrawide Monitor                1     379.99   \n",
       "1307949   259357    USB-C Charging Cable                1      11.95   \n",
       "\n",
       "             Order Date                         Purchase Address  \n",
       "0        12/30/19 00:01   136 Church St, New York City, NY 10001  \n",
       "1        12/29/19 07:03      562 2nd St, New York City, NY 10001  \n",
       "2        12/12/19 18:21     277 Main St, New York City, NY 10001  \n",
       "3        12/22/19 15:13      410 6th St, San Francisco, CA 94016  \n",
       "4        12/18/19 12:38            43 Hill St, Atlanta, GA 30301  \n",
       "...                 ...                                      ...  \n",
       "1307945  09/17/19 20:56   840 Highland St, Los Angeles, CA 90001  \n",
       "1307946  09/01/19 16:00  216 Dogwood St, San Francisco, CA 94016  \n",
       "1307947  09/23/19 07:39     220 12th St, San Francisco, CA 94016  \n",
       "1307948  09/19/19 17:30   511 Forest St, San Francisco, CA 94016  \n",
       "1307949  09/30/19 00:18   250 Meadow St, San Francisco, CA 94016  \n",
       "\n",
       "[1304135 rows x 6 columns]"
      ]
     },
     "execution_count": 15,
     "metadata": {},
     "output_type": "execute_result"
    }
   ],
   "source": [
    "#max(int(x) for x in merged_df['Order ID',skiprows=1])\n",
    "#merged_df['Order ID'] = pd.to_numeric(merged_df['Order ID'], errors='coerce')\n",
    "\n",
    "#max_order_id_row = merged_df[merged_df['Price Each'] == merged_df['Order ID'].max()]\n",
    "\n",
    "merged_df.dropna()"
   ]
  },
  {
   "cell_type": "code",
   "execution_count": 16,
   "id": "d051fceb-f17b-4eda-baec-52347bf4492b",
   "metadata": {
    "tags": []
   },
   "outputs": [
    {
     "name": "stderr",
     "output_type": "stream",
     "text": [
      "C:\\Users\\zsombor.veres-lakos\\AppData\\Local\\Temp\\ipykernel_40176\\1338565842.py:1: UserWarning: Could not infer format, so each element will be parsed individually, falling back to `dateutil`. To ensure parsing is consistent and as-expected, please specify a format.\n",
      "  merged_df['Order Date'] = pd.to_datetime(merged_df['Order Date'], errors='coerce')\n"
     ]
    }
   ],
   "source": [
    "merged_df['Order Date'] = pd.to_datetime(merged_df['Order Date'], errors='coerce')"
   ]
  },
  {
   "cell_type": "code",
   "execution_count": null,
   "id": "9ddbee94",
   "metadata": {},
   "outputs": [],
   "source": []
  },
  {
   "cell_type": "code",
   "execution_count": 17,
   "id": "39330722-beb7-4ded-8556-8e5f5bdbbe06",
   "metadata": {
    "tags": []
   },
   "outputs": [
    {
     "data": {
      "text/plain": [
       "0          2019-12\n",
       "1          2019-12\n",
       "2          2019-12\n",
       "3          2019-12\n",
       "4          2019-12\n",
       "            ...   \n",
       "1307945    2019-09\n",
       "1307946    2019-09\n",
       "1307947    2019-09\n",
       "1307948    2019-09\n",
       "1307949    2019-09\n",
       "Name: Month, Length: 1307950, dtype: period[M]"
      ]
     },
     "execution_count": 17,
     "metadata": {},
     "output_type": "execute_result"
    }
   ],
   "source": [
    "merged_df['Month'] = merged_df['Order Date'].dt.to_period('M')\n",
    "\n",
    "\n",
    "merged_df['Month']"
   ]
  },
  {
   "cell_type": "code",
   "execution_count": 18,
   "id": "bdab81b0-3a4a-421c-84fd-95f235a35bbf",
   "metadata": {
    "tags": []
   },
   "outputs": [],
   "source": [
    "merged_df['Brutto'] = pd.to_numeric(merged_df['Price Each'], errors='coerce') * pd.to_numeric(merged_df['Quantity Ordered'], errors='coerce')\n",
    "\n"
   ]
  },
  {
   "cell_type": "code",
   "execution_count": 19,
   "id": "d2f70981-a5a0-4987-a70a-78d71d1efbf0",
   "metadata": {
    "tags": []
   },
   "outputs": [
    {
     "name": "stdout",
     "output_type": "stream",
     "text": [
      "2019-12\n"
     ]
    }
   ],
   "source": [
    "\n",
    "monthly_sales = merged_df.groupby('Month')['Brutto'].sum()\n",
    "\n",
    "\n",
    "\n",
    "print(monthly_sales.idxmax())\n"
   ]
  },
  {
   "cell_type": "code",
   "execution_count": null,
   "id": "d25d0a18",
   "metadata": {},
   "outputs": [],
   "source": []
  },
  {
   "cell_type": "code",
   "execution_count": 20,
   "id": "2f1a8b92",
   "metadata": {},
   "outputs": [
    {
     "data": {
      "text/html": [
       "<div>\n",
       "<style scoped>\n",
       "    .dataframe tbody tr th:only-of-type {\n",
       "        vertical-align: middle;\n",
       "    }\n",
       "\n",
       "    .dataframe tbody tr th {\n",
       "        vertical-align: top;\n",
       "    }\n",
       "\n",
       "    .dataframe thead th {\n",
       "        text-align: right;\n",
       "    }\n",
       "</style>\n",
       "<table border=\"1\" class=\"dataframe\">\n",
       "  <thead>\n",
       "    <tr style=\"text-align: right;\">\n",
       "      <th></th>\n",
       "      <th>Order ID</th>\n",
       "      <th>Product</th>\n",
       "      <th>Quantity Ordered</th>\n",
       "      <th>Price Each</th>\n",
       "      <th>Order Date</th>\n",
       "      <th>Purchase Address</th>\n",
       "      <th>Month</th>\n",
       "      <th>Brutto</th>\n",
       "    </tr>\n",
       "  </thead>\n",
       "  <tbody>\n",
       "    <tr>\n",
       "      <th>0</th>\n",
       "      <td>295665</td>\n",
       "      <td>Macbook Pro Laptop</td>\n",
       "      <td>1</td>\n",
       "      <td>1700</td>\n",
       "      <td>2019-12-30 00:01:00</td>\n",
       "      <td>136 Church St, New York City, NY 10001</td>\n",
       "      <td>2019-12</td>\n",
       "      <td>1700.00</td>\n",
       "    </tr>\n",
       "    <tr>\n",
       "      <th>1</th>\n",
       "      <td>295666</td>\n",
       "      <td>LG Washing Machine</td>\n",
       "      <td>1</td>\n",
       "      <td>600.0</td>\n",
       "      <td>2019-12-29 07:03:00</td>\n",
       "      <td>562 2nd St, New York City, NY 10001</td>\n",
       "      <td>2019-12</td>\n",
       "      <td>600.00</td>\n",
       "    </tr>\n",
       "    <tr>\n",
       "      <th>2</th>\n",
       "      <td>295667</td>\n",
       "      <td>USB-C Charging Cable</td>\n",
       "      <td>1</td>\n",
       "      <td>11.95</td>\n",
       "      <td>2019-12-12 18:21:00</td>\n",
       "      <td>277 Main St, New York City, NY 10001</td>\n",
       "      <td>2019-12</td>\n",
       "      <td>11.95</td>\n",
       "    </tr>\n",
       "    <tr>\n",
       "      <th>3</th>\n",
       "      <td>295668</td>\n",
       "      <td>27in FHD Monitor</td>\n",
       "      <td>1</td>\n",
       "      <td>149.99</td>\n",
       "      <td>2019-12-22 15:13:00</td>\n",
       "      <td>410 6th St, San Francisco, CA 94016</td>\n",
       "      <td>2019-12</td>\n",
       "      <td>149.99</td>\n",
       "    </tr>\n",
       "    <tr>\n",
       "      <th>4</th>\n",
       "      <td>295669</td>\n",
       "      <td>USB-C Charging Cable</td>\n",
       "      <td>1</td>\n",
       "      <td>11.95</td>\n",
       "      <td>2019-12-18 12:38:00</td>\n",
       "      <td>43 Hill St, Atlanta, GA 30301</td>\n",
       "      <td>2019-12</td>\n",
       "      <td>11.95</td>\n",
       "    </tr>\n",
       "    <tr>\n",
       "      <th>...</th>\n",
       "      <td>...</td>\n",
       "      <td>...</td>\n",
       "      <td>...</td>\n",
       "      <td>...</td>\n",
       "      <td>...</td>\n",
       "      <td>...</td>\n",
       "      <td>...</td>\n",
       "      <td>...</td>\n",
       "    </tr>\n",
       "    <tr>\n",
       "      <th>1307945</th>\n",
       "      <td>259353</td>\n",
       "      <td>AAA Batteries (4-pack)</td>\n",
       "      <td>3</td>\n",
       "      <td>2.99</td>\n",
       "      <td>2019-09-17 20:56:00</td>\n",
       "      <td>840 Highland St, Los Angeles, CA 90001</td>\n",
       "      <td>2019-09</td>\n",
       "      <td>8.97</td>\n",
       "    </tr>\n",
       "    <tr>\n",
       "      <th>1307946</th>\n",
       "      <td>259354</td>\n",
       "      <td>iPhone</td>\n",
       "      <td>1</td>\n",
       "      <td>700</td>\n",
       "      <td>2019-09-01 16:00:00</td>\n",
       "      <td>216 Dogwood St, San Francisco, CA 94016</td>\n",
       "      <td>2019-09</td>\n",
       "      <td>700.00</td>\n",
       "    </tr>\n",
       "    <tr>\n",
       "      <th>1307947</th>\n",
       "      <td>259355</td>\n",
       "      <td>iPhone</td>\n",
       "      <td>1</td>\n",
       "      <td>700</td>\n",
       "      <td>2019-09-23 07:39:00</td>\n",
       "      <td>220 12th St, San Francisco, CA 94016</td>\n",
       "      <td>2019-09</td>\n",
       "      <td>700.00</td>\n",
       "    </tr>\n",
       "    <tr>\n",
       "      <th>1307948</th>\n",
       "      <td>259356</td>\n",
       "      <td>34in Ultrawide Monitor</td>\n",
       "      <td>1</td>\n",
       "      <td>379.99</td>\n",
       "      <td>2019-09-19 17:30:00</td>\n",
       "      <td>511 Forest St, San Francisco, CA 94016</td>\n",
       "      <td>2019-09</td>\n",
       "      <td>379.99</td>\n",
       "    </tr>\n",
       "    <tr>\n",
       "      <th>1307949</th>\n",
       "      <td>259357</td>\n",
       "      <td>USB-C Charging Cable</td>\n",
       "      <td>1</td>\n",
       "      <td>11.95</td>\n",
       "      <td>2019-09-30 00:18:00</td>\n",
       "      <td>250 Meadow St, San Francisco, CA 94016</td>\n",
       "      <td>2019-09</td>\n",
       "      <td>11.95</td>\n",
       "    </tr>\n",
       "  </tbody>\n",
       "</table>\n",
       "<p>1307950 rows × 8 columns</p>\n",
       "</div>"
      ],
      "text/plain": [
       "        Order ID                 Product Quantity Ordered Price Each  \\\n",
       "0         295665      Macbook Pro Laptop                1       1700   \n",
       "1         295666      LG Washing Machine                1      600.0   \n",
       "2         295667    USB-C Charging Cable                1      11.95   \n",
       "3         295668        27in FHD Monitor                1     149.99   \n",
       "4         295669    USB-C Charging Cable                1      11.95   \n",
       "...          ...                     ...              ...        ...   \n",
       "1307945   259353  AAA Batteries (4-pack)                3       2.99   \n",
       "1307946   259354                  iPhone                1        700   \n",
       "1307947   259355                  iPhone                1        700   \n",
       "1307948   259356  34in Ultrawide Monitor                1     379.99   \n",
       "1307949   259357    USB-C Charging Cable                1      11.95   \n",
       "\n",
       "                 Order Date                         Purchase Address    Month  \\\n",
       "0       2019-12-30 00:01:00   136 Church St, New York City, NY 10001  2019-12   \n",
       "1       2019-12-29 07:03:00      562 2nd St, New York City, NY 10001  2019-12   \n",
       "2       2019-12-12 18:21:00     277 Main St, New York City, NY 10001  2019-12   \n",
       "3       2019-12-22 15:13:00      410 6th St, San Francisco, CA 94016  2019-12   \n",
       "4       2019-12-18 12:38:00            43 Hill St, Atlanta, GA 30301  2019-12   \n",
       "...                     ...                                      ...      ...   \n",
       "1307945 2019-09-17 20:56:00   840 Highland St, Los Angeles, CA 90001  2019-09   \n",
       "1307946 2019-09-01 16:00:00  216 Dogwood St, San Francisco, CA 94016  2019-09   \n",
       "1307947 2019-09-23 07:39:00     220 12th St, San Francisco, CA 94016  2019-09   \n",
       "1307948 2019-09-19 17:30:00   511 Forest St, San Francisco, CA 94016  2019-09   \n",
       "1307949 2019-09-30 00:18:00   250 Meadow St, San Francisco, CA 94016  2019-09   \n",
       "\n",
       "          Brutto  \n",
       "0        1700.00  \n",
       "1         600.00  \n",
       "2          11.95  \n",
       "3         149.99  \n",
       "4          11.95  \n",
       "...          ...  \n",
       "1307945     8.97  \n",
       "1307946   700.00  \n",
       "1307947   700.00  \n",
       "1307948   379.99  \n",
       "1307949    11.95  \n",
       "\n",
       "[1307950 rows x 8 columns]"
      ]
     },
     "execution_count": 20,
     "metadata": {},
     "output_type": "execute_result"
    }
   ],
   "source": [
    "merged_df"
   ]
  },
  {
   "cell_type": "code",
   "execution_count": 21,
   "id": "fa8a7853",
   "metadata": {},
   "outputs": [],
   "source": [
    "import matplotlib.pyplot as plt\n",
    "\n",
    "# Convert index to datetime dtype\n",
    "monthly_sales.index = monthly_sales.index.to_timestamp()\n",
    "\n",
    "\n"
   ]
  },
  {
   "cell_type": "code",
   "execution_count": 22,
   "id": "62f67bb2",
   "metadata": {},
   "outputs": [
    {
     "data": {
      "image/png": "[encoded data removed]",
      "text/plain": [
       "<Figure size 640x480 with 1 Axes>"
      ]
     },
     "metadata": {},
     "output_type": "display_data"
    }
   ],
   "source": [
    "# Extracting data from the monthly_sales Series\n",
    "months = monthly_sales.index\n",
    "sales = monthly_sales.values\n",
    "\n",
    "# Creating the bar chart\n",
    "plt.bar(range(1,14), sales, width=0.8)  # Adjust the width parameter\n",
    "\n",
    "plt.ylabel('Sales in USD ($)')\n",
    "plt.xlabel('Month number')\n",
    "plt.show()\n"
   ]
  },
  {
   "cell_type": "code",
   "execution_count": null,
   "id": "f76d5964",
   "metadata": {},
   "outputs": [],
   "source": []
  },
  {
   "cell_type": "code",
   "execution_count": null,
   "id": "79814d3a",
   "metadata": {},
   "outputs": [],
   "source": []
  },
  {
   "cell_type": "code",
   "execution_count": null,
   "id": "0f679089",
   "metadata": {},
   "outputs": [],
   "source": []
  },
  {
   "cell_type": "code",
   "execution_count": null,
   "id": "17548475",
   "metadata": {},
   "outputs": [],
   "source": []
  },
  {
   "cell_type": "code",
   "execution_count": null,
   "id": "28474295",
   "metadata": {},
   "outputs": [],
   "source": []
  },
  {
   "cell_type": "markdown",
   "id": "be846ee5",
   "metadata": {},
   "source": [
    "##### Axis example:"
   ]
  },
  {
   "cell_type": "code",
   "execution_count": 23,
   "id": "e274f3a0",
   "metadata": {},
   "outputs": [
    {
     "name": "stdout",
     "output_type": "stream",
     "text": [
      "   A  B    C\n",
      "0  1  4  7.0\n",
      "1  2  5  NaN\n",
      "2  3  6  9.0\n",
      "\n",
      "Sum along rows (axis=0):\n",
      " A     6.0\n",
      "B    15.0\n",
      "C    16.0\n",
      "dtype: float64\n",
      "\n",
      "Sum along columns (axis=1):\n",
      " 0    12.0\n",
      "1     7.0\n",
      "2    18.0\n",
      "dtype: float64\n",
      "0    False\n",
      "1     True\n",
      "2    False\n",
      "dtype: bool\n"
     ]
    }
   ],
   "source": [
    "import pandas as pd\n",
    "\n",
    "# Create the DataFrame\n",
    "df = pd.DataFrame({'A': [1, 2, 3], 'B': [4, 5, 6], 'C': [7, None, 9]})\n",
    "print(df)\n",
    "print()\n",
    "# Sum along axis=0 (rows)\n",
    "sum_row = df.sum(axis=0)\n",
    "print(\"Sum along rows (axis=0):\\n\", sum_row)\n",
    "\n",
    "# Sum along axis=1 (columns)\n",
    "sum_column = df.sum(axis=1)\n",
    "print(\"\\nSum along columns (axis=1):\\n\", sum_column)\n",
    "\n",
    "\n",
    "print(df.isna().any(axis=1))"
   ]
  },
  {
   "cell_type": "code",
   "execution_count": null,
   "id": "53ed40ae",
   "metadata": {},
   "outputs": [],
   "source": []
  },
  {
   "cell_type": "code",
   "execution_count": null,
   "id": "2d5b939d",
   "metadata": {},
   "outputs": [],
   "source": []
  },
  {
   "cell_type": "markdown",
   "id": "e942dcdc",
   "metadata": {},
   "source": [
    "##### Cleaning up from the video:"
   ]
  },
  {
   "cell_type": "code",
   "execution_count": 24,
   "id": "9c06b0d3",
   "metadata": {},
   "outputs": [
    {
     "data": {
      "text/html": [
       "<div>\n",
       "<style scoped>\n",
       "    .dataframe tbody tr th:only-of-type {\n",
       "        vertical-align: middle;\n",
       "    }\n",
       "\n",
       "    .dataframe tbody tr th {\n",
       "        vertical-align: top;\n",
       "    }\n",
       "\n",
       "    .dataframe thead th {\n",
       "        text-align: right;\n",
       "    }\n",
       "</style>\n",
       "<table border=\"1\" class=\"dataframe\">\n",
       "  <thead>\n",
       "    <tr style=\"text-align: right;\">\n",
       "      <th></th>\n",
       "      <th>Order ID</th>\n",
       "      <th>Product</th>\n",
       "      <th>Quantity Ordered</th>\n",
       "      <th>Price Each</th>\n",
       "      <th>Order Date</th>\n",
       "      <th>Purchase Address</th>\n",
       "      <th>Month</th>\n",
       "      <th>Brutto</th>\n",
       "    </tr>\n",
       "  </thead>\n",
       "  <tbody>\n",
       "    <tr>\n",
       "      <th>254</th>\n",
       "      <td>Order ID</td>\n",
       "      <td>Product</td>\n",
       "      <td>Quantity Ordered</td>\n",
       "      <td>Price Each</td>\n",
       "      <td>NaT</td>\n",
       "      <td>Purchase Address</td>\n",
       "      <td>NaT</td>\n",
       "      <td>NaN</td>\n",
       "    </tr>\n",
       "    <tr>\n",
       "      <th>264</th>\n",
       "      <td>NaN</td>\n",
       "      <td>NaN</td>\n",
       "      <td>NaN</td>\n",
       "      <td>NaN</td>\n",
       "      <td>NaT</td>\n",
       "      <td>NaN</td>\n",
       "      <td>NaT</td>\n",
       "      <td>NaN</td>\n",
       "    </tr>\n",
       "    <tr>\n",
       "      <th>648</th>\n",
       "      <td>NaN</td>\n",
       "      <td>NaN</td>\n",
       "      <td>NaN</td>\n",
       "      <td>NaN</td>\n",
       "      <td>NaT</td>\n",
       "      <td>NaN</td>\n",
       "      <td>NaT</td>\n",
       "      <td>NaN</td>\n",
       "    </tr>\n",
       "    <tr>\n",
       "      <th>680</th>\n",
       "      <td>NaN</td>\n",
       "      <td>NaN</td>\n",
       "      <td>NaN</td>\n",
       "      <td>NaN</td>\n",
       "      <td>NaT</td>\n",
       "      <td>NaN</td>\n",
       "      <td>NaT</td>\n",
       "      <td>NaN</td>\n",
       "    </tr>\n",
       "    <tr>\n",
       "      <th>705</th>\n",
       "      <td>Order ID</td>\n",
       "      <td>Product</td>\n",
       "      <td>Quantity Ordered</td>\n",
       "      <td>Price Each</td>\n",
       "      <td>NaT</td>\n",
       "      <td>Purchase Address</td>\n",
       "      <td>NaT</td>\n",
       "      <td>NaN</td>\n",
       "    </tr>\n",
       "  </tbody>\n",
       "</table>\n",
       "</div>"
      ],
      "text/plain": [
       "     Order ID  Product  Quantity Ordered  Price Each Order Date  \\\n",
       "254  Order ID  Product  Quantity Ordered  Price Each        NaT   \n",
       "264       NaN      NaN               NaN         NaN        NaT   \n",
       "648       NaN      NaN               NaN         NaN        NaT   \n",
       "680       NaN      NaN               NaN         NaN        NaT   \n",
       "705  Order ID  Product  Quantity Ordered  Price Each        NaT   \n",
       "\n",
       "     Purchase Address Month  Brutto  \n",
       "254  Purchase Address   NaT     NaN  \n",
       "264               NaN   NaT     NaN  \n",
       "648               NaN   NaT     NaN  \n",
       "680               NaN   NaT     NaN  \n",
       "705  Purchase Address   NaT     NaN  "
      ]
     },
     "metadata": {},
     "output_type": "display_data"
    }
   ],
   "source": [
    "len(merged_df)\n",
    "#nan_df = merged_df[.any(axis)]\n",
    "\n",
    "nan_df = merged_df[merged_df.isna().any(axis=1)]\n",
    "display(nan_df.head())\n",
    "\n",
    "merged_df=merged_df.dropna(how='all')"
   ]
  },
  {
   "cell_type": "markdown",
   "id": "d956f95f",
   "metadata": {},
   "source": [
    "##### Q2: What city had the highest number of sales"
   ]
  },
  {
   "cell_type": "code",
   "execution_count": 25,
   "id": "c73c9ce0",
   "metadata": {},
   "outputs": [
    {
     "data": {
      "text/html": [
       "<div>\n",
       "<style scoped>\n",
       "    .dataframe tbody tr th:only-of-type {\n",
       "        vertical-align: middle;\n",
       "    }\n",
       "\n",
       "    .dataframe tbody tr th {\n",
       "        vertical-align: top;\n",
       "    }\n",
       "\n",
       "    .dataframe thead th {\n",
       "        text-align: right;\n",
       "    }\n",
       "</style>\n",
       "<table border=\"1\" class=\"dataframe\">\n",
       "  <thead>\n",
       "    <tr style=\"text-align: right;\">\n",
       "      <th></th>\n",
       "      <th>Order ID</th>\n",
       "      <th>Product</th>\n",
       "      <th>Quantity Ordered</th>\n",
       "      <th>Price Each</th>\n",
       "      <th>Order Date</th>\n",
       "      <th>Purchase Address</th>\n",
       "      <th>Month</th>\n",
       "      <th>Brutto</th>\n",
       "    </tr>\n",
       "  </thead>\n",
       "  <tbody>\n",
       "    <tr>\n",
       "      <th>0</th>\n",
       "      <td>295665</td>\n",
       "      <td>Macbook Pro Laptop</td>\n",
       "      <td>1</td>\n",
       "      <td>1700</td>\n",
       "      <td>2019-12-30 00:01:00</td>\n",
       "      <td>136 Church St, New York City, NY 10001</td>\n",
       "      <td>2019-12</td>\n",
       "      <td>1700.00</td>\n",
       "    </tr>\n",
       "    <tr>\n",
       "      <th>1</th>\n",
       "      <td>295666</td>\n",
       "      <td>LG Washing Machine</td>\n",
       "      <td>1</td>\n",
       "      <td>600.0</td>\n",
       "      <td>2019-12-29 07:03:00</td>\n",
       "      <td>562 2nd St, New York City, NY 10001</td>\n",
       "      <td>2019-12</td>\n",
       "      <td>600.00</td>\n",
       "    </tr>\n",
       "    <tr>\n",
       "      <th>2</th>\n",
       "      <td>295667</td>\n",
       "      <td>USB-C Charging Cable</td>\n",
       "      <td>1</td>\n",
       "      <td>11.95</td>\n",
       "      <td>2019-12-12 18:21:00</td>\n",
       "      <td>277 Main St, New York City, NY 10001</td>\n",
       "      <td>2019-12</td>\n",
       "      <td>11.95</td>\n",
       "    </tr>\n",
       "    <tr>\n",
       "      <th>3</th>\n",
       "      <td>295668</td>\n",
       "      <td>27in FHD Monitor</td>\n",
       "      <td>1</td>\n",
       "      <td>149.99</td>\n",
       "      <td>2019-12-22 15:13:00</td>\n",
       "      <td>410 6th St, San Francisco, CA 94016</td>\n",
       "      <td>2019-12</td>\n",
       "      <td>149.99</td>\n",
       "    </tr>\n",
       "    <tr>\n",
       "      <th>4</th>\n",
       "      <td>295669</td>\n",
       "      <td>USB-C Charging Cable</td>\n",
       "      <td>1</td>\n",
       "      <td>11.95</td>\n",
       "      <td>2019-12-18 12:38:00</td>\n",
       "      <td>43 Hill St, Atlanta, GA 30301</td>\n",
       "      <td>2019-12</td>\n",
       "      <td>11.95</td>\n",
       "    </tr>\n",
       "  </tbody>\n",
       "</table>\n",
       "</div>"
      ],
      "text/plain": [
       "  Order ID               Product Quantity Ordered Price Each  \\\n",
       "0   295665    Macbook Pro Laptop                1       1700   \n",
       "1   295666    LG Washing Machine                1      600.0   \n",
       "2   295667  USB-C Charging Cable                1      11.95   \n",
       "3   295668      27in FHD Monitor                1     149.99   \n",
       "4   295669  USB-C Charging Cable                1      11.95   \n",
       "\n",
       "           Order Date                        Purchase Address    Month  \\\n",
       "0 2019-12-30 00:01:00  136 Church St, New York City, NY 10001  2019-12   \n",
       "1 2019-12-29 07:03:00     562 2nd St, New York City, NY 10001  2019-12   \n",
       "2 2019-12-12 18:21:00    277 Main St, New York City, NY 10001  2019-12   \n",
       "3 2019-12-22 15:13:00     410 6th St, San Francisco, CA 94016  2019-12   \n",
       "4 2019-12-18 12:38:00           43 Hill St, Atlanta, GA 30301  2019-12   \n",
       "\n",
       "    Brutto  \n",
       "0  1700.00  \n",
       "1   600.00  \n",
       "2    11.95  \n",
       "3   149.99  \n",
       "4    11.95  "
      ]
     },
     "execution_count": 25,
     "metadata": {},
     "output_type": "execute_result"
    }
   ],
   "source": [
    "merged_df.head()"
   ]
  },
  {
   "cell_type": "code",
   "execution_count": 26,
   "id": "0c3ae1fa",
   "metadata": {},
   "outputs": [
    {
     "name": "stdout",
     "output_type": "stream",
     "text": [
      "Requirement already satisfied: usaddress in c:\\users\\zsombor.veres-lakos\\appdata\\local\\anaconda3\\lib\\site-packages (0.5.10)\n",
      "Requirement already satisfied: future>=0.14 in c:\\users\\zsombor.veres-lakos\\appdata\\local\\anaconda3\\lib\\site-packages (from usaddress) (0.18.3)\n",
      "Requirement already satisfied: probableparsing in c:\\users\\zsombor.veres-lakos\\appdata\\local\\anaconda3\\lib\\site-packages (from usaddress) (0.0.1)\n",
      "Requirement already satisfied: python-crfsuite>=0.7 in c:\\users\\zsombor.veres-lakos\\appdata\\local\\anaconda3\\lib\\site-packages (from usaddress) (0.9.10)\n"
     ]
    }
   ],
   "source": [
    "! \"C:\\Users\\zsombor.veres-lakos\\AppData\\Local\\anaconda3\\Scripts\\pip.exe\" install usaddress\n"
   ]
  },
  {
   "cell_type": "code",
   "execution_count": 27,
   "id": "26fdb3a4",
   "metadata": {},
   "outputs": [
    {
     "name": "stdout",
     "output_type": "stream",
     "text": [
      "Requirement already satisfied: random2 in c:\\users\\zsombor.veres-lakos\\appdata\\local\\anaconda3\\lib\\site-packages (1.0.2)\n"
     ]
    }
   ],
   "source": [
    "! pip install random2"
   ]
  },
  {
   "cell_type": "code",
   "execution_count": 28,
   "id": "00cec6c5",
   "metadata": {},
   "outputs": [],
   "source": [
    "import random2\n"
   ]
  },
  {
   "cell_type": "code",
   "execution_count": 44,
   "id": "c810bccd",
   "metadata": {},
   "outputs": [
    {
     "name": "stdout",
     "output_type": "stream",
     "text": [
      "(OrderedDict([('AddressNumber', '136'), ('StreetName', 'Church'), ('StreetNamePostType', 'St'), ('PlaceName', 'New York City'), ('StateName', 'NY'), ('ZipCode', '10001')]), 'Street Address')\n"
     ]
    },
    {
     "ename": "KeyboardInterrupt",
     "evalue": "",
     "output_type": "error",
     "traceback": [
      "\u001b[1;31m---------------------------------------------------------------------------\u001b[0m",
      "\u001b[1;31mKeyboardInterrupt\u001b[0m                         Traceback (most recent call last)",
      "Cell \u001b[1;32mIn[44], line 7\u001b[0m\n\u001b[0;32m      4\u001b[0m test \u001b[38;5;241m=\u001b[39mmerged_df\u001b[38;5;241m.\u001b[39miloc[\u001b[38;5;241m0\u001b[39m:\u001b[38;5;241m10\u001b[39m][\u001b[38;5;124m'\u001b[39m\u001b[38;5;124mPurchase Address\u001b[39m\u001b[38;5;124m'\u001b[39m]\u001b[38;5;241m.\u001b[39mapply(\u001b[38;5;28;01mlambda\u001b[39;00m x: usaddress\u001b[38;5;241m.\u001b[39mtag(x))\n\u001b[0;32m      5\u001b[0m \u001b[38;5;28mprint\u001b[39m(test\u001b[38;5;241m.\u001b[39mget(\u001b[38;5;241m0\u001b[39m))\n\u001b[1;32m----> 7\u001b[0m merged_df[\u001b[38;5;124m'\u001b[39m\u001b[38;5;124mTEST2\u001b[39m\u001b[38;5;124m'\u001b[39m] \u001b[38;5;241m=\u001b[39mmerged_df[\u001b[38;5;124m'\u001b[39m\u001b[38;5;124mPurchase Address\u001b[39m\u001b[38;5;124m'\u001b[39m]\u001b[38;5;241m.\u001b[39mapply(\u001b[38;5;28;01mlambda\u001b[39;00m x: usaddress\u001b[38;5;241m.\u001b[39mtag(x)[\u001b[38;5;241m0\u001b[39m]\u001b[38;5;241m.\u001b[39mget(\u001b[38;5;124m'\u001b[39m\u001b[38;5;124mPlaceName\u001b[39m\u001b[38;5;124m'\u001b[39m))\n\u001b[0;32m      8\u001b[0m merged_df[\u001b[38;5;124m'\u001b[39m\u001b[38;5;124mCity\u001b[39m\u001b[38;5;124m'\u001b[39m] \u001b[38;5;241m=\u001b[39m merged_df[\u001b[38;5;124m'\u001b[39m\u001b[38;5;124mTEST2\u001b[39m\u001b[38;5;124m'\u001b[39m]\n",
      "File \u001b[1;32mc:\\Users\\zsombor.veres-lakos\\AppData\\Local\\anaconda3\\Lib\\site-packages\\pandas\\core\\series.py:4915\u001b[0m, in \u001b[0;36mSeries.apply\u001b[1;34m(self, func, convert_dtype, args, by_row, **kwargs)\u001b[0m\n\u001b[0;32m   4780\u001b[0m \u001b[38;5;28;01mdef\u001b[39;00m \u001b[38;5;21mapply\u001b[39m(\n\u001b[0;32m   4781\u001b[0m     \u001b[38;5;28mself\u001b[39m,\n\u001b[0;32m   4782\u001b[0m     func: AggFuncType,\n\u001b[1;32m   (...)\u001b[0m\n\u001b[0;32m   4787\u001b[0m     \u001b[38;5;241m*\u001b[39m\u001b[38;5;241m*\u001b[39mkwargs,\n\u001b[0;32m   4788\u001b[0m ) \u001b[38;5;241m-\u001b[39m\u001b[38;5;241m>\u001b[39m DataFrame \u001b[38;5;241m|\u001b[39m Series:\n\u001b[0;32m   4789\u001b[0m \u001b[38;5;250m    \u001b[39m\u001b[38;5;124;03m\"\"\"\u001b[39;00m\n\u001b[0;32m   4790\u001b[0m \u001b[38;5;124;03m    Invoke function on values of Series.\u001b[39;00m\n\u001b[0;32m   4791\u001b[0m \n\u001b[1;32m   (...)\u001b[0m\n\u001b[0;32m   4906\u001b[0m \u001b[38;5;124;03m    dtype: float64\u001b[39;00m\n\u001b[0;32m   4907\u001b[0m \u001b[38;5;124;03m    \"\"\"\u001b[39;00m\n\u001b[0;32m   4908\u001b[0m     \u001b[38;5;28;01mreturn\u001b[39;00m SeriesApply(\n\u001b[0;32m   4909\u001b[0m         \u001b[38;5;28mself\u001b[39m,\n\u001b[0;32m   4910\u001b[0m         func,\n\u001b[0;32m   4911\u001b[0m         convert_dtype\u001b[38;5;241m=\u001b[39mconvert_dtype,\n\u001b[0;32m   4912\u001b[0m         by_row\u001b[38;5;241m=\u001b[39mby_row,\n\u001b[0;32m   4913\u001b[0m         args\u001b[38;5;241m=\u001b[39margs,\n\u001b[0;32m   4914\u001b[0m         kwargs\u001b[38;5;241m=\u001b[39mkwargs,\n\u001b[1;32m-> 4915\u001b[0m     )\u001b[38;5;241m.\u001b[39mapply()\n",
      "File \u001b[1;32mc:\\Users\\zsombor.veres-lakos\\AppData\\Local\\anaconda3\\Lib\\site-packages\\pandas\\core\\apply.py:1427\u001b[0m, in \u001b[0;36mSeriesApply.apply\u001b[1;34m(self)\u001b[0m\n\u001b[0;32m   1424\u001b[0m     \u001b[38;5;28;01mreturn\u001b[39;00m \u001b[38;5;28mself\u001b[39m\u001b[38;5;241m.\u001b[39mapply_compat()\n\u001b[0;32m   1426\u001b[0m \u001b[38;5;66;03m# self.func is Callable\u001b[39;00m\n\u001b[1;32m-> 1427\u001b[0m \u001b[38;5;28;01mreturn\u001b[39;00m \u001b[38;5;28mself\u001b[39m\u001b[38;5;241m.\u001b[39mapply_standard()\n",
      "File \u001b[1;32mc:\\Users\\zsombor.veres-lakos\\AppData\\Local\\anaconda3\\Lib\\site-packages\\pandas\\core\\apply.py:1507\u001b[0m, in \u001b[0;36mSeriesApply.apply_standard\u001b[1;34m(self)\u001b[0m\n\u001b[0;32m   1501\u001b[0m \u001b[38;5;66;03m# row-wise access\u001b[39;00m\n\u001b[0;32m   1502\u001b[0m \u001b[38;5;66;03m# apply doesn't have a `na_action` keyword and for backward compat reasons\u001b[39;00m\n\u001b[0;32m   1503\u001b[0m \u001b[38;5;66;03m# we need to give `na_action=\"ignore\"` for categorical data.\u001b[39;00m\n\u001b[0;32m   1504\u001b[0m \u001b[38;5;66;03m# TODO: remove the `na_action=\"ignore\"` when that default has been changed in\u001b[39;00m\n\u001b[0;32m   1505\u001b[0m \u001b[38;5;66;03m#  Categorical (GH51645).\u001b[39;00m\n\u001b[0;32m   1506\u001b[0m action \u001b[38;5;241m=\u001b[39m \u001b[38;5;124m\"\u001b[39m\u001b[38;5;124mignore\u001b[39m\u001b[38;5;124m\"\u001b[39m \u001b[38;5;28;01mif\u001b[39;00m \u001b[38;5;28misinstance\u001b[39m(obj\u001b[38;5;241m.\u001b[39mdtype, CategoricalDtype) \u001b[38;5;28;01melse\u001b[39;00m \u001b[38;5;28;01mNone\u001b[39;00m\n\u001b[1;32m-> 1507\u001b[0m mapped \u001b[38;5;241m=\u001b[39m obj\u001b[38;5;241m.\u001b[39m_map_values(\n\u001b[0;32m   1508\u001b[0m     mapper\u001b[38;5;241m=\u001b[39mcurried, na_action\u001b[38;5;241m=\u001b[39maction, convert\u001b[38;5;241m=\u001b[39m\u001b[38;5;28mself\u001b[39m\u001b[38;5;241m.\u001b[39mconvert_dtype\n\u001b[0;32m   1509\u001b[0m )\n\u001b[0;32m   1511\u001b[0m \u001b[38;5;28;01mif\u001b[39;00m \u001b[38;5;28mlen\u001b[39m(mapped) \u001b[38;5;129;01mand\u001b[39;00m \u001b[38;5;28misinstance\u001b[39m(mapped[\u001b[38;5;241m0\u001b[39m], ABCSeries):\n\u001b[0;32m   1512\u001b[0m     \u001b[38;5;66;03m# GH#43986 Need to do list(mapped) in order to get treated as nested\u001b[39;00m\n\u001b[0;32m   1513\u001b[0m     \u001b[38;5;66;03m#  See also GH#25959 regarding EA support\u001b[39;00m\n\u001b[0;32m   1514\u001b[0m     \u001b[38;5;28;01mreturn\u001b[39;00m obj\u001b[38;5;241m.\u001b[39m_constructor_expanddim(\u001b[38;5;28mlist\u001b[39m(mapped), index\u001b[38;5;241m=\u001b[39mobj\u001b[38;5;241m.\u001b[39mindex)\n",
      "File \u001b[1;32mc:\\Users\\zsombor.veres-lakos\\AppData\\Local\\anaconda3\\Lib\\site-packages\\pandas\\core\\base.py:921\u001b[0m, in \u001b[0;36mIndexOpsMixin._map_values\u001b[1;34m(self, mapper, na_action, convert)\u001b[0m\n\u001b[0;32m    918\u001b[0m \u001b[38;5;28;01mif\u001b[39;00m \u001b[38;5;28misinstance\u001b[39m(arr, ExtensionArray):\n\u001b[0;32m    919\u001b[0m     \u001b[38;5;28;01mreturn\u001b[39;00m arr\u001b[38;5;241m.\u001b[39mmap(mapper, na_action\u001b[38;5;241m=\u001b[39mna_action)\n\u001b[1;32m--> 921\u001b[0m \u001b[38;5;28;01mreturn\u001b[39;00m algorithms\u001b[38;5;241m.\u001b[39mmap_array(arr, mapper, na_action\u001b[38;5;241m=\u001b[39mna_action, convert\u001b[38;5;241m=\u001b[39mconvert)\n",
      "File \u001b[1;32mc:\\Users\\zsombor.veres-lakos\\AppData\\Local\\anaconda3\\Lib\\site-packages\\pandas\\core\\algorithms.py:1743\u001b[0m, in \u001b[0;36mmap_array\u001b[1;34m(arr, mapper, na_action, convert)\u001b[0m\n\u001b[0;32m   1741\u001b[0m values \u001b[38;5;241m=\u001b[39m arr\u001b[38;5;241m.\u001b[39mastype(\u001b[38;5;28mobject\u001b[39m, copy\u001b[38;5;241m=\u001b[39m\u001b[38;5;28;01mFalse\u001b[39;00m)\n\u001b[0;32m   1742\u001b[0m \u001b[38;5;28;01mif\u001b[39;00m na_action \u001b[38;5;129;01mis\u001b[39;00m \u001b[38;5;28;01mNone\u001b[39;00m:\n\u001b[1;32m-> 1743\u001b[0m     \u001b[38;5;28;01mreturn\u001b[39;00m lib\u001b[38;5;241m.\u001b[39mmap_infer(values, mapper, convert\u001b[38;5;241m=\u001b[39mconvert)\n\u001b[0;32m   1744\u001b[0m \u001b[38;5;28;01melse\u001b[39;00m:\n\u001b[0;32m   1745\u001b[0m     \u001b[38;5;28;01mreturn\u001b[39;00m lib\u001b[38;5;241m.\u001b[39mmap_infer_mask(\n\u001b[0;32m   1746\u001b[0m         values, mapper, mask\u001b[38;5;241m=\u001b[39misna(values)\u001b[38;5;241m.\u001b[39mview(np\u001b[38;5;241m.\u001b[39muint8), convert\u001b[38;5;241m=\u001b[39mconvert\n\u001b[0;32m   1747\u001b[0m     )\n",
      "File \u001b[1;32mlib.pyx:2972\u001b[0m, in \u001b[0;36mpandas._libs.lib.map_infer\u001b[1;34m()\u001b[0m\n",
      "Cell \u001b[1;32mIn[44], line 7\u001b[0m, in \u001b[0;36m<lambda>\u001b[1;34m(x)\u001b[0m\n\u001b[0;32m      4\u001b[0m test \u001b[38;5;241m=\u001b[39mmerged_df\u001b[38;5;241m.\u001b[39miloc[\u001b[38;5;241m0\u001b[39m:\u001b[38;5;241m10\u001b[39m][\u001b[38;5;124m'\u001b[39m\u001b[38;5;124mPurchase Address\u001b[39m\u001b[38;5;124m'\u001b[39m]\u001b[38;5;241m.\u001b[39mapply(\u001b[38;5;28;01mlambda\u001b[39;00m x: usaddress\u001b[38;5;241m.\u001b[39mtag(x))\n\u001b[0;32m      5\u001b[0m \u001b[38;5;28mprint\u001b[39m(test\u001b[38;5;241m.\u001b[39mget(\u001b[38;5;241m0\u001b[39m))\n\u001b[1;32m----> 7\u001b[0m merged_df[\u001b[38;5;124m'\u001b[39m\u001b[38;5;124mTEST2\u001b[39m\u001b[38;5;124m'\u001b[39m] \u001b[38;5;241m=\u001b[39mmerged_df[\u001b[38;5;124m'\u001b[39m\u001b[38;5;124mPurchase Address\u001b[39m\u001b[38;5;124m'\u001b[39m]\u001b[38;5;241m.\u001b[39mapply(\u001b[38;5;28;01mlambda\u001b[39;00m x: usaddress\u001b[38;5;241m.\u001b[39mtag(x)[\u001b[38;5;241m0\u001b[39m]\u001b[38;5;241m.\u001b[39mget(\u001b[38;5;124m'\u001b[39m\u001b[38;5;124mPlaceName\u001b[39m\u001b[38;5;124m'\u001b[39m))\n\u001b[0;32m      8\u001b[0m merged_df[\u001b[38;5;124m'\u001b[39m\u001b[38;5;124mCity\u001b[39m\u001b[38;5;124m'\u001b[39m] \u001b[38;5;241m=\u001b[39m merged_df[\u001b[38;5;124m'\u001b[39m\u001b[38;5;124mTEST2\u001b[39m\u001b[38;5;124m'\u001b[39m]\n",
      "File \u001b[1;32mc:\\Users\\zsombor.veres-lakos\\AppData\\Local\\anaconda3\\Lib\\site-packages\\usaddress\\__init__.py:158\u001b[0m, in \u001b[0;36mtag\u001b[1;34m(address_string, tag_mapping)\u001b[0m\n\u001b[0;32m    155\u001b[0m is_intersection \u001b[38;5;241m=\u001b[39m \u001b[38;5;28;01mFalse\u001b[39;00m\n\u001b[0;32m    156\u001b[0m og_labels \u001b[38;5;241m=\u001b[39m []\n\u001b[1;32m--> 158\u001b[0m \u001b[38;5;28;01mfor\u001b[39;00m token, label \u001b[38;5;129;01min\u001b[39;00m parse(address_string):\n\u001b[0;32m    159\u001b[0m     \u001b[38;5;28;01mif\u001b[39;00m label \u001b[38;5;241m==\u001b[39m \u001b[38;5;124m'\u001b[39m\u001b[38;5;124mIntersectionSeparator\u001b[39m\u001b[38;5;124m'\u001b[39m:\n\u001b[0;32m    160\u001b[0m         is_intersection \u001b[38;5;241m=\u001b[39m \u001b[38;5;28;01mTrue\u001b[39;00m\n",
      "File \u001b[1;32mc:\\Users\\zsombor.veres-lakos\\AppData\\Local\\anaconda3\\Lib\\site-packages\\usaddress\\__init__.py:148\u001b[0m, in \u001b[0;36mparse\u001b[1;34m(address_string)\u001b[0m\n\u001b[0;32m    145\u001b[0m features \u001b[38;5;241m=\u001b[39m tokens2features(tokens)\n\u001b[0;32m    147\u001b[0m tags \u001b[38;5;241m=\u001b[39m TAGGER\u001b[38;5;241m.\u001b[39mtag(features)\n\u001b[1;32m--> 148\u001b[0m \u001b[38;5;28;01mreturn\u001b[39;00m \u001b[38;5;28mlist\u001b[39m(\u001b[38;5;28mzip\u001b[39m(tokens, tags))\n",
      "\u001b[1;31mKeyboardInterrupt\u001b[0m: "
     ]
    }
   ],
   "source": [
    "import usaddress\n",
    "\n",
    "cities = usaddress.tag(merged_df['Purchase Address'].iloc[0])[0]['PlaceName']\n",
    "test =merged_df.iloc[0:10]['Purchase Address'].apply(lambda x: usaddress.tag(x))\n",
    "print(test.get(0))\n",
    "\n",
    "merged_df['TEST2'] =merged_df['Purchase Address'].apply(lambda x: usaddress.tag(x)[0].get('PlaceName'))\n"
   ]
  },
  {
   "cell_type": "code",
   "execution_count": 45,
   "id": "470058cb",
   "metadata": {},
   "outputs": [
    {
     "name": "stderr",
     "output_type": "stream",
     "text": [
      "C:\\Users\\zsombor.veres-lakos\\AppData\\Local\\Temp\\ipykernel_40176\\1894141480.py:1: SettingWithCopyWarning: \n",
      "A value is trying to be set on a copy of a slice from a DataFrame.\n",
      "Try using .loc[row_indexer,col_indexer] = value instead\n",
      "\n",
      "See the caveats in the documentation: https://pandas.pydata.org/pandas-docs/stable/user_guide/indexing.html#returning-a-view-versus-a-copy\n",
      "  merged_df['City'] = merged_df['TEST2']\n"
     ]
    }
   ],
   "source": [
    "merged_df['City'] = merged_df['TEST2']"
   ]
  },
  {
   "cell_type": "code",
   "execution_count": 46,
   "id": "36c4a707",
   "metadata": {},
   "outputs": [
    {
     "data": {
      "text/plain": [
       "0          New York City\n",
       "1          New York City\n",
       "2          New York City\n",
       "3          San Francisco\n",
       "4                Atlanta\n",
       "               ...      \n",
       "1307945      Los Angeles\n",
       "1307946    San Francisco\n",
       "1307947    San Francisco\n",
       "1307948    San Francisco\n",
       "1307949    San Francisco\n",
       "Name: City, Length: 1304135, dtype: object"
      ]
     },
     "execution_count": 46,
     "metadata": {},
     "output_type": "execute_result"
    }
   ],
   "source": [
    "merged_df['City']"
   ]
  },
  {
   "cell_type": "code",
   "execution_count": null,
   "id": "a2b6f2da",
   "metadata": {},
   "outputs": [],
   "source": []
  },
  {
   "cell_type": "code",
   "execution_count": null,
   "id": "83e2e44a",
   "metadata": {},
   "outputs": [],
   "source": []
  },
  {
   "cell_type": "code",
   "execution_count": 73,
   "id": "2bd7d2c3",
   "metadata": {},
   "outputs": [
    {
     "data": {
      "text/plain": [
       "array([19568490.06, 12737072.25, 25631494.07, 19375827.8 , 38167995.6 ,\n",
       "       32650222.01, 16243434.27, 57835427.37, 19234288.36])"
      ]
     },
     "execution_count": 73,
     "metadata": {},
     "output_type": "execute_result"
    }
   ],
   "source": [
    "groupBy = merged_df.groupby('City').sum('Brutto')\n",
    "\n",
    "groupBy.loc[groupBy.idxmax()]\n"
   ]
  },
  {
   "cell_type": "code",
   "execution_count": null,
   "id": "7c843d36",
   "metadata": {},
   "outputs": [],
   "source": []
  },
  {
   "cell_type": "code",
   "execution_count": null,
   "id": "7fa8980d",
   "metadata": {},
   "outputs": [],
   "source": []
  },
  {
   "cell_type": "code",
   "execution_count": null,
   "id": "2f417172",
   "metadata": {},
   "outputs": [],
   "source": []
  },
  {
   "cell_type": "code",
   "execution_count": 74,
   "id": "32f250f6",
   "metadata": {},
   "outputs": [
    {
     "data": {
      "image/png": "[encoded data removed]",
      "text/plain": [
       "<Figure size 640x480 with 1 Axes>"
      ]
     },
     "metadata": {},
     "output_type": "display_data"
    }
   ],
   "source": [
    "plt.bar(groupBy.index, groupBy.values.flatten(), width=0.8)  # Adjust the width parameter\n",
    "\n",
    "plt.ylabel('Sales in USD ($)')\n",
    "plt.xlabel('Month number')\n",
    "plt.show()"
   ]
  },
  {
   "cell_type": "code",
   "execution_count": null,
   "id": "9b678385",
   "metadata": {},
   "outputs": [
    {
     "data": {
      "text/html": [
       "<div>\n",
       "<style scoped>\n",
       "    .dataframe tbody tr th:only-of-type {\n",
       "        vertical-align: middle;\n",
       "    }\n",
       "\n",
       "    .dataframe tbody tr th {\n",
       "        vertical-align: top;\n",
       "    }\n",
       "\n",
       "    .dataframe thead th {\n",
       "        text-align: right;\n",
       "    }\n",
       "</style>\n",
       "<table border=\"1\" class=\"dataframe\">\n",
       "  <thead>\n",
       "    <tr style=\"text-align: right;\">\n",
       "      <th></th>\n",
       "      <th>Order ID</th>\n",
       "      <th>Product</th>\n",
       "      <th>Quantity Ordered</th>\n",
       "      <th>Price Each</th>\n",
       "      <th>Order Date</th>\n",
       "      <th>Purchase Address</th>\n",
       "      <th>Month</th>\n",
       "      <th>Brutto</th>\n",
       "      <th>Cities</th>\n",
       "    </tr>\n",
       "  </thead>\n",
       "  <tbody>\n",
       "  </tbody>\n",
       "</table>\n",
       "</div>"
      ],
      "text/plain": [
       "Empty DataFrame\n",
       "Columns: [Order ID, Product, Quantity Ordered, Price Each, Order Date, Purchase Address, Month, Brutto, Cities]\n",
       "Index: []"
      ]
     },
     "execution_count": 108,
     "metadata": {},
     "output_type": "execute_result"
    }
   ],
   "source": [
    "merged_df['Cities']\n",
    "\n",
    "filtered_df = merged_df[merged_df['Cities'] != 'New York City']\n",
    "filtered_df"
   ]
  },
  {
   "cell_type": "code",
   "execution_count": 29,
   "id": "fbf231e4",
   "metadata": {},
   "outputs": [
    {
     "data": {
      "text/html": [
       "<div>\n",
       "<style scoped>\n",
       "    .dataframe tbody tr th:only-of-type {\n",
       "        vertical-align: middle;\n",
       "    }\n",
       "\n",
       "    .dataframe tbody tr th {\n",
       "        vertical-align: top;\n",
       "    }\n",
       "\n",
       "    .dataframe thead th {\n",
       "        text-align: right;\n",
       "    }\n",
       "</style>\n",
       "<table border=\"1\" class=\"dataframe\">\n",
       "  <thead>\n",
       "    <tr style=\"text-align: right;\">\n",
       "      <th></th>\n",
       "      <th>Order ID</th>\n",
       "      <th>Product</th>\n",
       "      <th>Quantity Ordered</th>\n",
       "      <th>Price Each</th>\n",
       "      <th>Order Date</th>\n",
       "      <th>Purchase Address</th>\n",
       "      <th>Month</th>\n",
       "      <th>Brutto</th>\n",
       "      <th>TEST2</th>\n",
       "      <th>City</th>\n",
       "    </tr>\n",
       "  </thead>\n",
       "  <tbody>\n",
       "    <tr>\n",
       "      <th>0</th>\n",
       "      <td>295665</td>\n",
       "      <td>Macbook Pro Laptop</td>\n",
       "      <td>1</td>\n",
       "      <td>1700</td>\n",
       "      <td>2019-12-30 00:01:00</td>\n",
       "      <td>136 Church St, New York City, NY 10001</td>\n",
       "      <td>2019-12</td>\n",
       "      <td>1700.00</td>\n",
       "      <td>New York City</td>\n",
       "      <td>New York City</td>\n",
       "    </tr>\n",
       "    <tr>\n",
       "      <th>1</th>\n",
       "      <td>295666</td>\n",
       "      <td>LG Washing Machine</td>\n",
       "      <td>1</td>\n",
       "      <td>600.0</td>\n",
       "      <td>2019-12-29 07:03:00</td>\n",
       "      <td>562 2nd St, New York City, NY 10001</td>\n",
       "      <td>2019-12</td>\n",
       "      <td>600.00</td>\n",
       "      <td>New York City</td>\n",
       "      <td>New York City</td>\n",
       "    </tr>\n",
       "    <tr>\n",
       "      <th>2</th>\n",
       "      <td>295667</td>\n",
       "      <td>USB-C Charging Cable</td>\n",
       "      <td>1</td>\n",
       "      <td>11.95</td>\n",
       "      <td>2019-12-12 18:21:00</td>\n",
       "      <td>277 Main St, New York City, NY 10001</td>\n",
       "      <td>2019-12</td>\n",
       "      <td>11.95</td>\n",
       "      <td>New York City</td>\n",
       "      <td>New York City</td>\n",
       "    </tr>\n",
       "    <tr>\n",
       "      <th>3</th>\n",
       "      <td>295668</td>\n",
       "      <td>27in FHD Monitor</td>\n",
       "      <td>1</td>\n",
       "      <td>149.99</td>\n",
       "      <td>2019-12-22 15:13:00</td>\n",
       "      <td>410 6th St, San Francisco, CA 94016</td>\n",
       "      <td>2019-12</td>\n",
       "      <td>149.99</td>\n",
       "      <td>San Francisco</td>\n",
       "      <td>San Francisco</td>\n",
       "    </tr>\n",
       "    <tr>\n",
       "      <th>4</th>\n",
       "      <td>295669</td>\n",
       "      <td>USB-C Charging Cable</td>\n",
       "      <td>1</td>\n",
       "      <td>11.95</td>\n",
       "      <td>2019-12-18 12:38:00</td>\n",
       "      <td>43 Hill St, Atlanta, GA 30301</td>\n",
       "      <td>2019-12</td>\n",
       "      <td>11.95</td>\n",
       "      <td>Atlanta</td>\n",
       "      <td>Atlanta</td>\n",
       "    </tr>\n",
       "  </tbody>\n",
       "</table>\n",
       "</div>"
      ],
      "text/plain": [
       "  Order ID               Product Quantity Ordered Price Each  \\\n",
       "0   295665    Macbook Pro Laptop                1       1700   \n",
       "1   295666    LG Washing Machine                1      600.0   \n",
       "2   295667  USB-C Charging Cable                1      11.95   \n",
       "3   295668      27in FHD Monitor                1     149.99   \n",
       "4   295669  USB-C Charging Cable                1      11.95   \n",
       "\n",
       "           Order Date                        Purchase Address    Month  \\\n",
       "0 2019-12-30 00:01:00  136 Church St, New York City, NY 10001  2019-12   \n",
       "1 2019-12-29 07:03:00     562 2nd St, New York City, NY 10001  2019-12   \n",
       "2 2019-12-12 18:21:00    277 Main St, New York City, NY 10001  2019-12   \n",
       "3 2019-12-22 15:13:00     410 6th St, San Francisco, CA 94016  2019-12   \n",
       "4 2019-12-18 12:38:00           43 Hill St, Atlanta, GA 30301  2019-12   \n",
       "\n",
       "    Brutto          TEST2           City  \n",
       "0  1700.00  New York City  New York City  \n",
       "1   600.00  New York City  New York City  \n",
       "2    11.95  New York City  New York City  \n",
       "3   149.99  San Francisco  San Francisco  \n",
       "4    11.95        Atlanta        Atlanta  "
      ]
     },
     "execution_count": 29,
     "metadata": {},
     "output_type": "execute_result"
    }
   ],
   "source": [
    "merged_df.head()"
   ]
  },
  {
   "cell_type": "markdown",
   "id": "29163de9",
   "metadata": {},
   "source": [
    "#### Question 3: What time should we display advertisements to maximize likelihood of customer's buying product?"
   ]
  },
  {
   "cell_type": "code",
   "execution_count": 35,
   "id": "bb5b8c3e",
   "metadata": {},
   "outputs": [],
   "source": [
    "merged_df.loc[:, 'Order Date']  = pd.to_datetime(merged_df['Order Date'], errors='coerce')\n",
    "\n",
    "\n"
   ]
  },
  {
   "cell_type": "code",
   "execution_count": 39,
   "id": "026e3712",
   "metadata": {},
   "outputs": [],
   "source": [
    "merged_df['Order Date'].dt.time\n",
    "merged_df.loc[:,'Hour'] = merged_df['Order Date'].dt.hour\n",
    "merged_df.loc[:,'Minute'] = merged_df['Order Date'].dt.minute\n",
    "merged_df.loc[:,'Second'] = merged_df['Order Date'].dt.second"
   ]
  },
  {
   "cell_type": "code",
   "execution_count": 77,
   "id": "12097ce5",
   "metadata": {},
   "outputs": [
    {
     "data": {
      "image/png": "[encoded data removed]",
      "text/plain": [
       "<Figure size 640x480 with 1 Axes>"
      ]
     },
     "metadata": {},
     "output_type": "display_data"
    }
   ],
   "source": [
    "gb = merged_df.groupby(['Hour']).size()\n",
    "gb\n",
    "\n",
    "plt.plot(gb.index, gb.values.flatten())  # Adjust the width parameter\n",
    "\n",
    "plt.ylabel('Sales in USD ($)')\n",
    "plt.xlabel('Month number')\n",
    "plt.xticks(gb.index)\n",
    "plt.grid()\n",
    "\n",
    "plt.show()"
   ]
  },
  {
   "cell_type": "code",
   "execution_count": 70,
   "id": "4661f91b",
   "metadata": {},
   "outputs": [
    {
     "name": "stdout",
     "output_type": "stream",
     "text": [
      "[(9,), (10,), (11,), (12,)]\n",
      "Hour\n",
      "9     2\n",
      "10    2\n",
      "11    2\n",
      "12    2\n",
      "dtype: int64\n"
     ]
    }
   ],
   "source": [
    "import pandas as pd\n",
    "\n",
    "# Example DataFrame\n",
    "all_data = pd.DataFrame({\n",
    "    'Hour': [9, 10, 9, 10, 11, 11, 12, 12],\n",
    "    'Sales': [100, 200, 150, 180, 250, 300, 200, 220]\n",
    "})\n",
    "all_data\n",
    "keys = [pair for pair, df in all_data.groupby(['Hour'])]\n",
    "\n",
    "print(keys)\n",
    "print(all_data.groupby(['Hour']).size())"
   ]
  },
  {
   "cell_type": "markdown",
   "id": "c96feb14",
   "metadata": {},
   "source": [
    "#### Question 4: What products are most often sold together?"
   ]
  }
 ],
 "metadata": {
  "kernelspec": {
   "display_name": "Python 3 (ipykernel)",
   "language": "python",
   "name": "python3"
  },
  "language_info": {
   "codemirror_mode": {
    "name": "ipython",
    "version": 3
   },
   "file_extension": ".py",
   "mimetype": "text/x-python",
   "name": "python",
   "nbconvert_exporter": "python",
   "pygments_lexer": "ipython3",
   "version": "3.11.7"
  },
  "toc-autonumbering": false,
  "toc-showcode": true,
  "toc-showmarkdowntxt": false
 },
 "nbformat": 4,
 "nbformat_minor": 5
}
